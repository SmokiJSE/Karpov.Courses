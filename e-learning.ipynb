{
 "cells": [
  {
   "cell_type": "markdown",
   "metadata": {},
   "source": [
    "# Проект e-learning\n",
    "Сергей Жарков"
   ]
  },
  {
   "cell_type": "code",
   "execution_count": 145,
   "metadata": {},
   "outputs": [],
   "source": [
    "import pandas as pd\n",
    "import numpy as np\n",
    "import seaborn as sns\n",
    "import matplotlib.pyplot as plt\n",
    "\n",
    "%matplotlib inline"
   ]
  },
  {
   "cell_type": "code",
   "execution_count": 146,
   "metadata": {},
   "outputs": [],
   "source": [
    "assessments = pd.read_csv('assessments.csv')\n",
    "courses = pd.read_csv('courses.csv')\n",
    "studentAssessment = pd.read_csv('studentAssessment.csv')\n",
    "studentRegistration = pd.read_csv('studentRegistration.csv')"
   ]
  },
  {
   "cell_type": "markdown",
   "metadata": {},
   "source": [
    "## 1. Сколько студентов успешно сдали только один курс?"
   ]
  },
  {
   "cell_type": "markdown",
   "metadata": {},
   "source": [
    "Успешная сдача — это зачёт на экзамене. Для задания понадобятся оценки студентов и информация об экзаменах."
   ]
  },
  {
   "cell_type": "markdown",
   "metadata": {},
   "source": [
    "### Посмотрим на таблицу с оценками:"
   ]
  },
  {
   "cell_type": "code",
   "execution_count": 147,
   "metadata": {},
   "outputs": [
    {
     "data": {
      "text/html": [
       "<div>\n",
       "<style scoped>\n",
       "    .dataframe tbody tr th:only-of-type {\n",
       "        vertical-align: middle;\n",
       "    }\n",
       "\n",
       "    .dataframe tbody tr th {\n",
       "        vertical-align: top;\n",
       "    }\n",
       "\n",
       "    .dataframe thead th {\n",
       "        text-align: right;\n",
       "    }\n",
       "</style>\n",
       "<table border=\"1\" class=\"dataframe\">\n",
       "  <thead>\n",
       "    <tr style=\"text-align: right;\">\n",
       "      <th></th>\n",
       "      <th>id_assessment</th>\n",
       "      <th>id_student</th>\n",
       "      <th>date_submitted</th>\n",
       "      <th>is_banked</th>\n",
       "      <th>score</th>\n",
       "    </tr>\n",
       "  </thead>\n",
       "  <tbody>\n",
       "    <tr>\n",
       "      <th>0</th>\n",
       "      <td>1752</td>\n",
       "      <td>11391</td>\n",
       "      <td>18</td>\n",
       "      <td>0</td>\n",
       "      <td>78.0</td>\n",
       "    </tr>\n",
       "    <tr>\n",
       "      <th>1</th>\n",
       "      <td>1752</td>\n",
       "      <td>28400</td>\n",
       "      <td>22</td>\n",
       "      <td>0</td>\n",
       "      <td>70.0</td>\n",
       "    </tr>\n",
       "    <tr>\n",
       "      <th>2</th>\n",
       "      <td>1752</td>\n",
       "      <td>31604</td>\n",
       "      <td>17</td>\n",
       "      <td>0</td>\n",
       "      <td>72.0</td>\n",
       "    </tr>\n",
       "    <tr>\n",
       "      <th>3</th>\n",
       "      <td>1752</td>\n",
       "      <td>32885</td>\n",
       "      <td>26</td>\n",
       "      <td>0</td>\n",
       "      <td>69.0</td>\n",
       "    </tr>\n",
       "    <tr>\n",
       "      <th>4</th>\n",
       "      <td>1752</td>\n",
       "      <td>38053</td>\n",
       "      <td>19</td>\n",
       "      <td>0</td>\n",
       "      <td>79.0</td>\n",
       "    </tr>\n",
       "  </tbody>\n",
       "</table>\n",
       "</div>"
      ],
      "text/plain": [
       "   id_assessment  id_student  date_submitted  is_banked  score\n",
       "0           1752       11391              18          0   78.0\n",
       "1           1752       28400              22          0   70.0\n",
       "2           1752       31604              17          0   72.0\n",
       "3           1752       32885              26          0   69.0\n",
       "4           1752       38053              19          0   79.0"
      ]
     },
     "execution_count": 147,
     "metadata": {},
     "output_type": "execute_result"
    }
   ],
   "source": [
    "studentAssessment.head()"
   ]
  },
  {
   "cell_type": "code",
   "execution_count": 148,
   "metadata": {},
   "outputs": [
    {
     "data": {
      "text/plain": [
       "id_assessment       0\n",
       "id_student          0\n",
       "date_submitted      0\n",
       "is_banked           0\n",
       "score             173\n",
       "dtype: int64"
      ]
     },
     "execution_count": 148,
     "metadata": {},
     "output_type": "execute_result"
    }
   ],
   "source": [
    "# Пропущеные значения\n",
    "studentAssessment.isnull().sum()"
   ]
  },
  {
   "cell_type": "code",
   "execution_count": 149,
   "metadata": {},
   "outputs": [
    {
     "data": {
      "text/html": [
       "<div>\n",
       "<style scoped>\n",
       "    .dataframe tbody tr th:only-of-type {\n",
       "        vertical-align: middle;\n",
       "    }\n",
       "\n",
       "    .dataframe tbody tr th {\n",
       "        vertical-align: top;\n",
       "    }\n",
       "\n",
       "    .dataframe thead th {\n",
       "        text-align: right;\n",
       "    }\n",
       "</style>\n",
       "<table border=\"1\" class=\"dataframe\">\n",
       "  <thead>\n",
       "    <tr style=\"text-align: right;\">\n",
       "      <th></th>\n",
       "      <th>id_assessment</th>\n",
       "      <th>id_student</th>\n",
       "      <th>date_submitted</th>\n",
       "      <th>is_banked</th>\n",
       "      <th>score</th>\n",
       "    </tr>\n",
       "  </thead>\n",
       "  <tbody>\n",
       "    <tr>\n",
       "      <th>215</th>\n",
       "      <td>1752</td>\n",
       "      <td>721259</td>\n",
       "      <td>22</td>\n",
       "      <td>0</td>\n",
       "      <td>NaN</td>\n",
       "    </tr>\n",
       "    <tr>\n",
       "      <th>937</th>\n",
       "      <td>1754</td>\n",
       "      <td>260355</td>\n",
       "      <td>127</td>\n",
       "      <td>0</td>\n",
       "      <td>NaN</td>\n",
       "    </tr>\n",
       "    <tr>\n",
       "      <th>2364</th>\n",
       "      <td>1760</td>\n",
       "      <td>2606802</td>\n",
       "      <td>180</td>\n",
       "      <td>0</td>\n",
       "      <td>NaN</td>\n",
       "    </tr>\n",
       "    <tr>\n",
       "      <th>3358</th>\n",
       "      <td>14984</td>\n",
       "      <td>186780</td>\n",
       "      <td>77</td>\n",
       "      <td>0</td>\n",
       "      <td>NaN</td>\n",
       "    </tr>\n",
       "    <tr>\n",
       "      <th>3914</th>\n",
       "      <td>14984</td>\n",
       "      <td>531205</td>\n",
       "      <td>26</td>\n",
       "      <td>0</td>\n",
       "      <td>NaN</td>\n",
       "    </tr>\n",
       "  </tbody>\n",
       "</table>\n",
       "</div>"
      ],
      "text/plain": [
       "      id_assessment  id_student  date_submitted  is_banked  score\n",
       "215            1752      721259              22          0    NaN\n",
       "937            1754      260355             127          0    NaN\n",
       "2364           1760     2606802             180          0    NaN\n",
       "3358          14984      186780              77          0    NaN\n",
       "3914          14984      531205              26          0    NaN"
      ]
     },
     "execution_count": 149,
     "metadata": {},
     "output_type": "execute_result"
    }
   ],
   "source": [
    "# В оценках есть 173 пропущеных значения.\n",
    "studentAssessment.query(\"score.isnull()\").head()"
   ]
  },
  {
   "cell_type": "code",
   "execution_count": 150,
   "metadata": {},
   "outputs": [
    {
     "data": {
      "text/plain": [
       "0    172003\n",
       "1      1909\n",
       "Name: is_banked, dtype: int64"
      ]
     },
     "execution_count": 150,
     "metadata": {},
     "output_type": "execute_result"
    }
   ],
   "source": [
    "# Перезачеты\n",
    "# is_banked — факт перезачета теста с прошлого семестра\n",
    "studentAssessment.is_banked.value_counts()\n",
    "# 1909 человек получили перезачет. Не будем считать перезачет успешной сдачей экзамена.\n",
    "# Этот зачет был получен раньше."
   ]
  },
  {
   "cell_type": "code",
   "execution_count": 151,
   "metadata": {},
   "outputs": [
    {
     "data": {
      "text/plain": [
       "-1    1909\n",
       "Name: date_submitted, dtype: int64"
      ]
     },
     "execution_count": 151,
     "metadata": {},
     "output_type": "execute_result"
    }
   ],
   "source": [
    "# Посмотрим на студентов, получивших перезачет.\n",
    "# date_submitted — дата сдачи теста студентом, количество дней с начала семестра.\n",
    "studentAssessment.query(\"is_banked == 1\").date_submitted.value_counts()\n",
    "# У всех студентов, которые получили перезачет, датой сдачи стоит -1, "
   ]
  },
  {
   "cell_type": "code",
   "execution_count": 152,
   "metadata": {},
   "outputs": [
    {
     "data": {
      "text/plain": [
       "-1    18\n",
       "Name: date_submitted, dtype: int64"
      ]
     },
     "execution_count": 152,
     "metadata": {},
     "output_type": "execute_result"
    }
   ],
   "source": [
    "# посмотрим, есть ли студенты с такой датой экзамена, которые не получали перезачет.\n",
    "studentAssessment.query(\"is_banked == 0 and date_submitted == -1\").date_submitted.value_counts()\n",
    "# Еще 18 человек имеют необычную дату перезачета"
   ]
  },
  {
   "cell_type": "code",
   "execution_count": 153,
   "metadata": {},
   "outputs": [
    {
     "data": {
      "text/html": [
       "<div>\n",
       "<style scoped>\n",
       "    .dataframe tbody tr th:only-of-type {\n",
       "        vertical-align: middle;\n",
       "    }\n",
       "\n",
       "    .dataframe tbody tr th {\n",
       "        vertical-align: top;\n",
       "    }\n",
       "\n",
       "    .dataframe thead th {\n",
       "        text-align: right;\n",
       "    }\n",
       "</style>\n",
       "<table border=\"1\" class=\"dataframe\">\n",
       "  <thead>\n",
       "    <tr style=\"text-align: right;\">\n",
       "      <th></th>\n",
       "      <th>id_assessment</th>\n",
       "      <th>id_student</th>\n",
       "      <th>date_submitted</th>\n",
       "      <th>is_banked</th>\n",
       "      <th>score</th>\n",
       "    </tr>\n",
       "  </thead>\n",
       "  <tbody>\n",
       "    <tr>\n",
       "      <th>29017</th>\n",
       "      <td>15008</td>\n",
       "      <td>614117</td>\n",
       "      <td>-1</td>\n",
       "      <td>0</td>\n",
       "      <td>65.0</td>\n",
       "    </tr>\n",
       "    <tr>\n",
       "      <th>29076</th>\n",
       "      <td>15008</td>\n",
       "      <td>618197</td>\n",
       "      <td>-1</td>\n",
       "      <td>0</td>\n",
       "      <td>70.0</td>\n",
       "    </tr>\n",
       "    <tr>\n",
       "      <th>29551</th>\n",
       "      <td>15008</td>\n",
       "      <td>2334930</td>\n",
       "      <td>-1</td>\n",
       "      <td>0</td>\n",
       "      <td>80.0</td>\n",
       "    </tr>\n",
       "    <tr>\n",
       "      <th>38781</th>\n",
       "      <td>15020</td>\n",
       "      <td>653762</td>\n",
       "      <td>-1</td>\n",
       "      <td>0</td>\n",
       "      <td>1.0</td>\n",
       "    </tr>\n",
       "    <tr>\n",
       "      <th>39490</th>\n",
       "      <td>15020</td>\n",
       "      <td>2276854</td>\n",
       "      <td>-1</td>\n",
       "      <td>0</td>\n",
       "      <td>1.0</td>\n",
       "    </tr>\n",
       "    <tr>\n",
       "      <th>39722</th>\n",
       "      <td>15020</td>\n",
       "      <td>373846</td>\n",
       "      <td>-1</td>\n",
       "      <td>0</td>\n",
       "      <td>1.0</td>\n",
       "    </tr>\n",
       "    <tr>\n",
       "      <th>40310</th>\n",
       "      <td>15020</td>\n",
       "      <td>640291</td>\n",
       "      <td>-1</td>\n",
       "      <td>0</td>\n",
       "      <td>1.0</td>\n",
       "    </tr>\n",
       "    <tr>\n",
       "      <th>109447</th>\n",
       "      <td>34865</td>\n",
       "      <td>2000491</td>\n",
       "      <td>-1</td>\n",
       "      <td>0</td>\n",
       "      <td>100.0</td>\n",
       "    </tr>\n",
       "    <tr>\n",
       "      <th>110431</th>\n",
       "      <td>34865</td>\n",
       "      <td>558018</td>\n",
       "      <td>-1</td>\n",
       "      <td>0</td>\n",
       "      <td>100.0</td>\n",
       "    </tr>\n",
       "    <tr>\n",
       "      <th>150139</th>\n",
       "      <td>34904</td>\n",
       "      <td>689832</td>\n",
       "      <td>-1</td>\n",
       "      <td>0</td>\n",
       "      <td>86.0</td>\n",
       "    </tr>\n",
       "    <tr>\n",
       "      <th>150285</th>\n",
       "      <td>34904</td>\n",
       "      <td>1948159</td>\n",
       "      <td>-1</td>\n",
       "      <td>0</td>\n",
       "      <td>94.0</td>\n",
       "    </tr>\n",
       "    <tr>\n",
       "      <th>150325</th>\n",
       "      <td>34904</td>\n",
       "      <td>2298106</td>\n",
       "      <td>-1</td>\n",
       "      <td>0</td>\n",
       "      <td>71.0</td>\n",
       "    </tr>\n",
       "    <tr>\n",
       "      <th>150765</th>\n",
       "      <td>34904</td>\n",
       "      <td>583487</td>\n",
       "      <td>-1</td>\n",
       "      <td>0</td>\n",
       "      <td>89.0</td>\n",
       "    </tr>\n",
       "    <tr>\n",
       "      <th>151113</th>\n",
       "      <td>34904</td>\n",
       "      <td>647945</td>\n",
       "      <td>-1</td>\n",
       "      <td>0</td>\n",
       "      <td>90.0</td>\n",
       "    </tr>\n",
       "    <tr>\n",
       "      <th>151128</th>\n",
       "      <td>34904</td>\n",
       "      <td>648457</td>\n",
       "      <td>-1</td>\n",
       "      <td>0</td>\n",
       "      <td>92.0</td>\n",
       "    </tr>\n",
       "    <tr>\n",
       "      <th>151188</th>\n",
       "      <td>34904</td>\n",
       "      <td>651040</td>\n",
       "      <td>-1</td>\n",
       "      <td>0</td>\n",
       "      <td>83.0</td>\n",
       "    </tr>\n",
       "    <tr>\n",
       "      <th>151743</th>\n",
       "      <td>34905</td>\n",
       "      <td>654834</td>\n",
       "      <td>-1</td>\n",
       "      <td>0</td>\n",
       "      <td>96.0</td>\n",
       "    </tr>\n",
       "    <tr>\n",
       "      <th>151867</th>\n",
       "      <td>34905</td>\n",
       "      <td>678954</td>\n",
       "      <td>-1</td>\n",
       "      <td>0</td>\n",
       "      <td>96.0</td>\n",
       "    </tr>\n",
       "  </tbody>\n",
       "</table>\n",
       "</div>"
      ],
      "text/plain": [
       "        id_assessment  id_student  date_submitted  is_banked  score\n",
       "29017           15008      614117              -1          0   65.0\n",
       "29076           15008      618197              -1          0   70.0\n",
       "29551           15008     2334930              -1          0   80.0\n",
       "38781           15020      653762              -1          0    1.0\n",
       "39490           15020     2276854              -1          0    1.0\n",
       "39722           15020      373846              -1          0    1.0\n",
       "40310           15020      640291              -1          0    1.0\n",
       "109447          34865     2000491              -1          0  100.0\n",
       "110431          34865      558018              -1          0  100.0\n",
       "150139          34904      689832              -1          0   86.0\n",
       "150285          34904     1948159              -1          0   94.0\n",
       "150325          34904     2298106              -1          0   71.0\n",
       "150765          34904      583487              -1          0   89.0\n",
       "151113          34904      647945              -1          0   90.0\n",
       "151128          34904      648457              -1          0   92.0\n",
       "151188          34904      651040              -1          0   83.0\n",
       "151743          34905      654834              -1          0   96.0\n",
       "151867          34905      678954              -1          0   96.0"
      ]
     },
     "execution_count": 153,
     "metadata": {},
     "output_type": "execute_result"
    }
   ],
   "source": [
    "studentAssessment.query(\"is_banked == 0 and date_submitted == -1\")\n",
    "# У них разные оценки, возможно эти студенты не сдавали экзамен.\n",
    "# Возможно, преподаватели ошиблись выставляя дату. "
   ]
  },
  {
   "cell_type": "code",
   "execution_count": 154,
   "metadata": {},
   "outputs": [
    {
     "data": {
      "text/plain": [
       "<seaborn.axisgrid.FacetGrid at 0x7ff1ae20cda0>"
      ]
     },
     "execution_count": 154,
     "metadata": {},
     "output_type": "execute_result"
    },
    {
     "data": {
      "image/png": "[encoded data removed]",
      "text/plain": [
       "<Figure size 360x360 with 1 Axes>"
      ]
     },
     "metadata": {
      "needs_background": "light"
     },
     "output_type": "display_data"
    }
   ],
   "source": [
    "# Посмотрим на распределение даты зачета\n",
    "sns.displot(studentAssessment, x='date_submitted')\n",
    "#Отрицательные значения мы проработали"
   ]
  },
  {
   "cell_type": "code",
   "execution_count": 155,
   "metadata": {},
   "outputs": [
    {
     "data": {
      "text/plain": [
       "0    30\n",
       "Name: is_banked, dtype: int64"
      ]
     },
     "execution_count": 155,
     "metadata": {},
     "output_type": "execute_result"
    }
   ],
   "source": [
    "#Посомтрим, что за студенты оттянули наш график вправо\n",
    "studentAssessment.query(\"is_banked == 0 and date_submitted > 500\").is_banked.value_counts()\n",
    "# Это 30 человек, которые сдали после 500 дня"
   ]
  },
  {
   "cell_type": "markdown",
   "metadata": {},
   "source": [
    "\n",
    "\n",
    "\n",
    "### Посмотрим на таблицу с тестами:"
   ]
  },
  {
   "cell_type": "code",
   "execution_count": 156,
   "metadata": {},
   "outputs": [
    {
     "data": {
      "text/html": [
       "<div>\n",
       "<style scoped>\n",
       "    .dataframe tbody tr th:only-of-type {\n",
       "        vertical-align: middle;\n",
       "    }\n",
       "\n",
       "    .dataframe tbody tr th {\n",
       "        vertical-align: top;\n",
       "    }\n",
       "\n",
       "    .dataframe thead th {\n",
       "        text-align: right;\n",
       "    }\n",
       "</style>\n",
       "<table border=\"1\" class=\"dataframe\">\n",
       "  <thead>\n",
       "    <tr style=\"text-align: right;\">\n",
       "      <th></th>\n",
       "      <th>code_module</th>\n",
       "      <th>code_presentation</th>\n",
       "      <th>id_assessment</th>\n",
       "      <th>assessment_type</th>\n",
       "      <th>date</th>\n",
       "      <th>weight</th>\n",
       "    </tr>\n",
       "  </thead>\n",
       "  <tbody>\n",
       "    <tr>\n",
       "      <th>0</th>\n",
       "      <td>AAA</td>\n",
       "      <td>2013J</td>\n",
       "      <td>1752</td>\n",
       "      <td>TMA</td>\n",
       "      <td>19.0</td>\n",
       "      <td>10.0</td>\n",
       "    </tr>\n",
       "    <tr>\n",
       "      <th>1</th>\n",
       "      <td>AAA</td>\n",
       "      <td>2013J</td>\n",
       "      <td>1753</td>\n",
       "      <td>TMA</td>\n",
       "      <td>54.0</td>\n",
       "      <td>20.0</td>\n",
       "    </tr>\n",
       "    <tr>\n",
       "      <th>2</th>\n",
       "      <td>AAA</td>\n",
       "      <td>2013J</td>\n",
       "      <td>1754</td>\n",
       "      <td>TMA</td>\n",
       "      <td>117.0</td>\n",
       "      <td>20.0</td>\n",
       "    </tr>\n",
       "    <tr>\n",
       "      <th>3</th>\n",
       "      <td>AAA</td>\n",
       "      <td>2013J</td>\n",
       "      <td>1755</td>\n",
       "      <td>TMA</td>\n",
       "      <td>166.0</td>\n",
       "      <td>20.0</td>\n",
       "    </tr>\n",
       "    <tr>\n",
       "      <th>4</th>\n",
       "      <td>AAA</td>\n",
       "      <td>2013J</td>\n",
       "      <td>1756</td>\n",
       "      <td>TMA</td>\n",
       "      <td>215.0</td>\n",
       "      <td>30.0</td>\n",
       "    </tr>\n",
       "  </tbody>\n",
       "</table>\n",
       "</div>"
      ],
      "text/plain": [
       "  code_module code_presentation  id_assessment assessment_type   date  weight\n",
       "0         AAA             2013J           1752             TMA   19.0    10.0\n",
       "1         AAA             2013J           1753             TMA   54.0    20.0\n",
       "2         AAA             2013J           1754             TMA  117.0    20.0\n",
       "3         AAA             2013J           1755             TMA  166.0    20.0\n",
       "4         AAA             2013J           1756             TMA  215.0    30.0"
      ]
     },
     "execution_count": 156,
     "metadata": {},
     "output_type": "execute_result"
    }
   ],
   "source": [
    "assessments.head()"
   ]
  },
  {
   "cell_type": "code",
   "execution_count": 157,
   "metadata": {},
   "outputs": [
    {
     "data": {
      "text/plain": [
       "code_module           0\n",
       "code_presentation     0\n",
       "id_assessment         0\n",
       "assessment_type       0\n",
       "date                 11\n",
       "weight                0\n",
       "dtype: int64"
      ]
     },
     "execution_count": 157,
     "metadata": {},
     "output_type": "execute_result"
    }
   ],
   "source": [
    "assessments.isnull().sum()\n",
    "# 11 пропущеных значений в дате теста."
   ]
  },
  {
   "cell_type": "code",
   "execution_count": 158,
   "metadata": {},
   "outputs": [
    {
     "data": {
      "text/plain": [
       "code_module          24\n",
       "code_presentation    24\n",
       "id_assessment        24\n",
       "assessment_type      24\n",
       "date                 13\n",
       "weight               24\n",
       "dtype: int64"
      ]
     },
     "execution_count": 158,
     "metadata": {},
     "output_type": "execute_result"
    }
   ],
   "source": [
    "#Посмотрим на экзамены.\n",
    "assessments.query(\"assessment_type == 'Exam'\").count()\n",
    "# 11 пропущеных дат тут. \n",
    "# Пропущены даты как за 2013 так и за 2014, в разных курсах и семестрах\n",
    "# Предположим что эти экзамены просто не имели фиксированой даты сдачи и пойдем дальше."
   ]
  },
  {
   "cell_type": "code",
   "execution_count": 159,
   "metadata": {},
   "outputs": [
    {
     "data": {
      "text/plain": [
       "Exam    24\n",
       "Name: assessment_type, dtype: int64"
      ]
     },
     "execution_count": 159,
     "metadata": {},
     "output_type": "execute_result"
    }
   ],
   "source": [
    "# Вес каждого экзамена  - 100%\n",
    "# Посмотрим, есть ли другие тесты с весом в 100%. Это могут быть курсовая или дипломная работы.\n",
    "assessments.query(\"weight == 100.0\").assessment_type.value_counts()\n",
    "# Таких предметов нет."
   ]
  },
  {
   "cell_type": "markdown",
   "metadata": {},
   "source": [
    "### Посмотрим на общую таблицу с необходимыми нам фильтрами"
   ]
  },
  {
   "cell_type": "code",
   "execution_count": 160,
   "metadata": {},
   "outputs": [
    {
     "data": {
      "text/html": [
       "<div>\n",
       "<style scoped>\n",
       "    .dataframe tbody tr th:only-of-type {\n",
       "        vertical-align: middle;\n",
       "    }\n",
       "\n",
       "    .dataframe tbody tr th {\n",
       "        vertical-align: top;\n",
       "    }\n",
       "\n",
       "    .dataframe thead th {\n",
       "        text-align: right;\n",
       "    }\n",
       "</style>\n",
       "<table border=\"1\" class=\"dataframe\">\n",
       "  <thead>\n",
       "    <tr style=\"text-align: right;\">\n",
       "      <th></th>\n",
       "      <th>id_assessment</th>\n",
       "      <th>id_student</th>\n",
       "      <th>date_submitted</th>\n",
       "      <th>is_banked</th>\n",
       "      <th>score</th>\n",
       "      <th>code_module</th>\n",
       "      <th>code_presentation</th>\n",
       "      <th>assessment_type</th>\n",
       "      <th>date</th>\n",
       "      <th>weight</th>\n",
       "    </tr>\n",
       "  </thead>\n",
       "  <tbody>\n",
       "    <tr>\n",
       "      <th>52923</th>\n",
       "      <td>24290</td>\n",
       "      <td>558914</td>\n",
       "      <td>230</td>\n",
       "      <td>0</td>\n",
       "      <td>32.0</td>\n",
       "      <td>CCC</td>\n",
       "      <td>2014B</td>\n",
       "      <td>Exam</td>\n",
       "      <td>NaN</td>\n",
       "      <td>100.0</td>\n",
       "    </tr>\n",
       "    <tr>\n",
       "      <th>52924</th>\n",
       "      <td>24290</td>\n",
       "      <td>559706</td>\n",
       "      <td>234</td>\n",
       "      <td>0</td>\n",
       "      <td>78.0</td>\n",
       "      <td>CCC</td>\n",
       "      <td>2014B</td>\n",
       "      <td>Exam</td>\n",
       "      <td>NaN</td>\n",
       "      <td>100.0</td>\n",
       "    </tr>\n",
       "    <tr>\n",
       "      <th>52925</th>\n",
       "      <td>24290</td>\n",
       "      <td>559770</td>\n",
       "      <td>230</td>\n",
       "      <td>0</td>\n",
       "      <td>54.0</td>\n",
       "      <td>CCC</td>\n",
       "      <td>2014B</td>\n",
       "      <td>Exam</td>\n",
       "      <td>NaN</td>\n",
       "      <td>100.0</td>\n",
       "    </tr>\n",
       "    <tr>\n",
       "      <th>52926</th>\n",
       "      <td>24290</td>\n",
       "      <td>560114</td>\n",
       "      <td>230</td>\n",
       "      <td>0</td>\n",
       "      <td>64.0</td>\n",
       "      <td>CCC</td>\n",
       "      <td>2014B</td>\n",
       "      <td>Exam</td>\n",
       "      <td>NaN</td>\n",
       "      <td>100.0</td>\n",
       "    </tr>\n",
       "    <tr>\n",
       "      <th>52927</th>\n",
       "      <td>24290</td>\n",
       "      <td>560311</td>\n",
       "      <td>234</td>\n",
       "      <td>0</td>\n",
       "      <td>100.0</td>\n",
       "      <td>CCC</td>\n",
       "      <td>2014B</td>\n",
       "      <td>Exam</td>\n",
       "      <td>NaN</td>\n",
       "      <td>100.0</td>\n",
       "    </tr>\n",
       "    <tr>\n",
       "      <th>...</th>\n",
       "      <td>...</td>\n",
       "      <td>...</td>\n",
       "      <td>...</td>\n",
       "      <td>...</td>\n",
       "      <td>...</td>\n",
       "      <td>...</td>\n",
       "      <td>...</td>\n",
       "      <td>...</td>\n",
       "      <td>...</td>\n",
       "      <td>...</td>\n",
       "    </tr>\n",
       "    <tr>\n",
       "      <th>95980</th>\n",
       "      <td>25368</td>\n",
       "      <td>652680</td>\n",
       "      <td>243</td>\n",
       "      <td>0</td>\n",
       "      <td>91.0</td>\n",
       "      <td>DDD</td>\n",
       "      <td>2014J</td>\n",
       "      <td>Exam</td>\n",
       "      <td>NaN</td>\n",
       "      <td>100.0</td>\n",
       "    </tr>\n",
       "    <tr>\n",
       "      <th>95981</th>\n",
       "      <td>25368</td>\n",
       "      <td>652732</td>\n",
       "      <td>249</td>\n",
       "      <td>0</td>\n",
       "      <td>47.0</td>\n",
       "      <td>DDD</td>\n",
       "      <td>2014J</td>\n",
       "      <td>Exam</td>\n",
       "      <td>NaN</td>\n",
       "      <td>100.0</td>\n",
       "    </tr>\n",
       "    <tr>\n",
       "      <th>95982</th>\n",
       "      <td>25368</td>\n",
       "      <td>652965</td>\n",
       "      <td>242</td>\n",
       "      <td>0</td>\n",
       "      <td>87.0</td>\n",
       "      <td>DDD</td>\n",
       "      <td>2014J</td>\n",
       "      <td>Exam</td>\n",
       "      <td>NaN</td>\n",
       "      <td>100.0</td>\n",
       "    </tr>\n",
       "    <tr>\n",
       "      <th>95983</th>\n",
       "      <td>25368</td>\n",
       "      <td>653051</td>\n",
       "      <td>242</td>\n",
       "      <td>0</td>\n",
       "      <td>27.0</td>\n",
       "      <td>DDD</td>\n",
       "      <td>2014J</td>\n",
       "      <td>Exam</td>\n",
       "      <td>NaN</td>\n",
       "      <td>100.0</td>\n",
       "    </tr>\n",
       "    <tr>\n",
       "      <th>95984</th>\n",
       "      <td>25368</td>\n",
       "      <td>653319</td>\n",
       "      <td>250</td>\n",
       "      <td>0</td>\n",
       "      <td>64.0</td>\n",
       "      <td>DDD</td>\n",
       "      <td>2014J</td>\n",
       "      <td>Exam</td>\n",
       "      <td>NaN</td>\n",
       "      <td>100.0</td>\n",
       "    </tr>\n",
       "  </tbody>\n",
       "</table>\n",
       "<p>4959 rows × 10 columns</p>\n",
       "</div>"
      ],
      "text/plain": [
       "       id_assessment  id_student  date_submitted  is_banked  score  \\\n",
       "52923          24290      558914             230          0   32.0   \n",
       "52924          24290      559706             234          0   78.0   \n",
       "52925          24290      559770             230          0   54.0   \n",
       "52926          24290      560114             230          0   64.0   \n",
       "52927          24290      560311             234          0  100.0   \n",
       "...              ...         ...             ...        ...    ...   \n",
       "95980          25368      652680             243          0   91.0   \n",
       "95981          25368      652732             249          0   47.0   \n",
       "95982          25368      652965             242          0   87.0   \n",
       "95983          25368      653051             242          0   27.0   \n",
       "95984          25368      653319             250          0   64.0   \n",
       "\n",
       "      code_module code_presentation assessment_type  date  weight  \n",
       "52923         CCC             2014B            Exam   NaN   100.0  \n",
       "52924         CCC             2014B            Exam   NaN   100.0  \n",
       "52925         CCC             2014B            Exam   NaN   100.0  \n",
       "52926         CCC             2014B            Exam   NaN   100.0  \n",
       "52927         CCC             2014B            Exam   NaN   100.0  \n",
       "...           ...               ...             ...   ...     ...  \n",
       "95980         DDD             2014J            Exam   NaN   100.0  \n",
       "95981         DDD             2014J            Exam   NaN   100.0  \n",
       "95982         DDD             2014J            Exam   NaN   100.0  \n",
       "95983         DDD             2014J            Exam   NaN   100.0  \n",
       "95984         DDD             2014J            Exam   NaN   100.0  \n",
       "\n",
       "[4959 rows x 10 columns]"
      ]
     },
     "execution_count": 160,
     "metadata": {},
     "output_type": "execute_result"
    }
   ],
   "source": [
    "exam = pd.merge(studentAssessment, assessments, on=\"id_assessment\") \\\n",
    "         .query(\"assessment_type == 'Exam'\")\n",
    "exam"
   ]
  },
  {
   "cell_type": "code",
   "execution_count": 161,
   "metadata": {},
   "outputs": [
    {
     "data": {
      "text/plain": [
       "id_assessment           0\n",
       "id_student              0\n",
       "date_submitted          0\n",
       "is_banked               0\n",
       "score                   0\n",
       "code_module             0\n",
       "code_presentation       0\n",
       "assessment_type         0\n",
       "date                 2865\n",
       "weight                  0\n",
       "dtype: int64"
      ]
     },
     "execution_count": 161,
     "metadata": {},
     "output_type": "execute_result"
    }
   ],
   "source": [
    "# Пропущеные значения в дате нас не пугают\n",
    "exam.isnull().sum()"
   ]
  },
  {
   "cell_type": "code",
   "execution_count": 162,
   "metadata": {},
   "outputs": [
    {
     "data": {
      "text/plain": [
       "0"
      ]
     },
     "execution_count": 162,
     "metadata": {},
     "output_type": "execute_result"
    }
   ],
   "source": [
    "# Перезачетов на экзаменах не было\n",
    "exam.query(\"is_banked == 1\").is_banked.count()"
   ]
  },
  {
   "cell_type": "code",
   "execution_count": 163,
   "metadata": {},
   "outputs": [
    {
     "data": {
      "text/plain": [
       "<seaborn.axisgrid.FacetGrid at 0x7ff1ae270e10>"
      ]
     },
     "execution_count": 163,
     "metadata": {},
     "output_type": "execute_result"
    },
    {
     "data": {
      "image/png": "[encoded data removed]",
      "text/plain": [
       "<Figure size 360x360 with 1 Axes>"
      ]
     },
     "metadata": {
      "needs_background": "light"
     },
     "output_type": "display_data"
    }
   ],
   "source": [
    "#Даты экзаменов:\n",
    "sns.displot(exam, x='date_submitted')"
   ]
  },
  {
   "cell_type": "markdown",
   "metadata": {},
   "source": [
    "### Ищем студентов, которые успешно сдали только один курс.\n",
    "Набрали 40 или больше балов на экзамене.\n"
   ]
  },
  {
   "cell_type": "code",
   "execution_count": 164,
   "metadata": {},
   "outputs": [
    {
     "data": {
      "text/plain": [
       "1    3802\n",
       "2     295\n",
       "Name: count_course, dtype: int64"
      ]
     },
     "execution_count": 164,
     "metadata": {},
     "output_type": "execute_result"
    }
   ],
   "source": [
    "exam.query(\"score >= 40\") \\\n",
    "    .groupby('id_student', as_index=False) \\\n",
    "    .agg({'score': 'count'})\\\n",
    "    .rename(columns={'score': 'count_course'})\\\n",
    "    .count_course.value_counts()"
   ]
  },
  {
   "cell_type": "markdown",
   "metadata": {},
   "source": [
    "### Вывод:\n",
    "3802 человека успешно завершили только один курс. 295 человек успешно завершили два курса"
   ]
  },
  {
   "cell_type": "markdown",
   "metadata": {},
   "source": [
    "#  "
   ]
  },
  {
   "cell_type": "markdown",
   "metadata": {},
   "source": [
    "## 2. Выявить самый сложный и самый простой экзамены.\n",
    "Найти курсы и экзамены в рамках курса, которые обладают самой низкой и самой высокой завершаемостью. Завершаемость = кол-во успешных экзаменов кол-во всех попыток сдать экзамен"
   ]
  },
  {
   "cell_type": "code",
   "execution_count": 165,
   "metadata": {},
   "outputs": [],
   "source": [
    "#Все, кто пробовал сдать экзамен\n",
    "exam_try = exam.groupby(['code_module', 'code_presentation', 'id_assessment'], as_index=False)\\\n",
    "    .agg({'score': 'count'})\\\n",
    "    .rename(columns={\"score\": \"try\"})"
   ]
  },
  {
   "cell_type": "code",
   "execution_count": 166,
   "metadata": {},
   "outputs": [],
   "source": [
    "#Все, кто сдал экзамен\n",
    "exam_success = exam.query(\"score >= 40\")\\\n",
    "    .groupby(['code_module', 'code_presentation', 'id_assessment'], as_index=False)\\\n",
    "    .agg({'score': 'count'})\\\n",
    "    .rename(columns={\"score\": \"success\"})"
   ]
  },
  {
   "cell_type": "code",
   "execution_count": 167,
   "metadata": {},
   "outputs": [
    {
     "data": {
      "text/html": [
       "<div>\n",
       "<style scoped>\n",
       "    .dataframe tbody tr th:only-of-type {\n",
       "        vertical-align: middle;\n",
       "    }\n",
       "\n",
       "    .dataframe tbody tr th {\n",
       "        vertical-align: top;\n",
       "    }\n",
       "\n",
       "    .dataframe thead th {\n",
       "        text-align: right;\n",
       "    }\n",
       "</style>\n",
       "<table border=\"1\" class=\"dataframe\">\n",
       "  <thead>\n",
       "    <tr style=\"text-align: right;\">\n",
       "      <th></th>\n",
       "      <th>code_module</th>\n",
       "      <th>code_presentation</th>\n",
       "      <th>id_assessment</th>\n",
       "      <th>try</th>\n",
       "      <th>success</th>\n",
       "      <th>completion</th>\n",
       "    </tr>\n",
       "  </thead>\n",
       "  <tbody>\n",
       "    <tr>\n",
       "      <th>4</th>\n",
       "      <td>DDD</td>\n",
       "      <td>2014B</td>\n",
       "      <td>25361</td>\n",
       "      <td>524</td>\n",
       "      <td>485</td>\n",
       "      <td>0.925573</td>\n",
       "    </tr>\n",
       "    <tr>\n",
       "      <th>3</th>\n",
       "      <td>DDD</td>\n",
       "      <td>2013J</td>\n",
       "      <td>25354</td>\n",
       "      <td>968</td>\n",
       "      <td>878</td>\n",
       "      <td>0.907025</td>\n",
       "    </tr>\n",
       "    <tr>\n",
       "      <th>0</th>\n",
       "      <td>CCC</td>\n",
       "      <td>2014B</td>\n",
       "      <td>24290</td>\n",
       "      <td>747</td>\n",
       "      <td>664</td>\n",
       "      <td>0.888889</td>\n",
       "    </tr>\n",
       "    <tr>\n",
       "      <th>5</th>\n",
       "      <td>DDD</td>\n",
       "      <td>2014J</td>\n",
       "      <td>25368</td>\n",
       "      <td>950</td>\n",
       "      <td>842</td>\n",
       "      <td>0.886316</td>\n",
       "    </tr>\n",
       "    <tr>\n",
       "      <th>1</th>\n",
       "      <td>CCC</td>\n",
       "      <td>2014J</td>\n",
       "      <td>24299</td>\n",
       "      <td>1168</td>\n",
       "      <td>1019</td>\n",
       "      <td>0.872432</td>\n",
       "    </tr>\n",
       "    <tr>\n",
       "      <th>2</th>\n",
       "      <td>DDD</td>\n",
       "      <td>2013B</td>\n",
       "      <td>25340</td>\n",
       "      <td>602</td>\n",
       "      <td>504</td>\n",
       "      <td>0.837209</td>\n",
       "    </tr>\n",
       "  </tbody>\n",
       "</table>\n",
       "</div>"
      ],
      "text/plain": [
       "  code_module code_presentation  id_assessment   try  success  completion\n",
       "4         DDD             2014B          25361   524      485    0.925573\n",
       "3         DDD             2013J          25354   968      878    0.907025\n",
       "0         CCC             2014B          24290   747      664    0.888889\n",
       "5         DDD             2014J          25368   950      842    0.886316\n",
       "1         CCC             2014J          24299  1168     1019    0.872432\n",
       "2         DDD             2013B          25340   602      504    0.837209"
      ]
     },
     "execution_count": 167,
     "metadata": {},
     "output_type": "execute_result"
    }
   ],
   "source": [
    "exam_score = pd.merge(exam_try, exam_success, on=['code_module', 'code_presentation', 'id_assessment'])\n",
    "exam_score['completion'] = exam_score['success'] / exam_score['try']\n",
    "exam_score.sort_values('completion', ascending=False)"
   ]
  },
  {
   "cell_type": "markdown",
   "metadata": {},
   "source": [
    "### Вывод:\n",
    "Самый простой экзамен - 25361. Код предмета: DDD Cеместр: 2014B. Его сдали 93% студентов.  \n",
    "Самый псложный - 25340. Код предмета: DDD Cеместр: 2013B. Его сдали 84% студентов."
   ]
  },
  {
   "cell_type": "markdown",
   "metadata": {},
   "source": [
    "#  "
   ]
  },
  {
   "cell_type": "markdown",
   "metadata": {},
   "source": [
    "## 3. По каждому предмету определим средний срок сдачи экзаменов\n",
    "Под сдачей понимаем последнее успешное прохождение экзамена студентом"
   ]
  },
  {
   "cell_type": "code",
   "execution_count": 168,
   "metadata": {},
   "outputs": [
    {
     "data": {
      "text/html": [
       "<div>\n",
       "<style scoped>\n",
       "    .dataframe tbody tr th:only-of-type {\n",
       "        vertical-align: middle;\n",
       "    }\n",
       "\n",
       "    .dataframe tbody tr th {\n",
       "        vertical-align: top;\n",
       "    }\n",
       "\n",
       "    .dataframe thead th {\n",
       "        text-align: right;\n",
       "    }\n",
       "</style>\n",
       "<table border=\"1\" class=\"dataframe\">\n",
       "  <thead>\n",
       "    <tr style=\"text-align: right;\">\n",
       "      <th></th>\n",
       "      <th>code_module</th>\n",
       "      <th>mean_date_submitted</th>\n",
       "      <th>date</th>\n",
       "    </tr>\n",
       "  </thead>\n",
       "  <tbody>\n",
       "    <tr>\n",
       "      <th>0</th>\n",
       "      <td>CCC</td>\n",
       "      <td>239.345217</td>\n",
       "      <td>NaN</td>\n",
       "    </tr>\n",
       "    <tr>\n",
       "      <th>1</th>\n",
       "      <td>DDD</td>\n",
       "      <td>237.976006</td>\n",
       "      <td>250.135512</td>\n",
       "    </tr>\n",
       "  </tbody>\n",
       "</table>\n",
       "</div>"
      ],
      "text/plain": [
       "  code_module  mean_date_submitted        date\n",
       "0         CCC           239.345217         NaN\n",
       "1         DDD           237.976006  250.135512"
      ]
     },
     "execution_count": 168,
     "metadata": {},
     "output_type": "execute_result"
    }
   ],
   "source": [
    "# Если не трогать семестры:\n",
    "exam.query(\"score >= 40\")\\\n",
    "    .groupby(['code_module'], as_index=False)\\\n",
    "    .agg({'date_submitted': 'mean', 'date': 'mean'})\\\n",
    "    .rename(columns={\"date_submitted\": \"mean_date_submitted\"})\\\n",
    "    .sort_values('mean_date_submitted', ascending=False)"
   ]
  },
  {
   "cell_type": "code",
   "execution_count": 169,
   "metadata": {},
   "outputs": [
    {
     "data": {
      "text/html": [
       "<div>\n",
       "<style scoped>\n",
       "    .dataframe tbody tr th:only-of-type {\n",
       "        vertical-align: middle;\n",
       "    }\n",
       "\n",
       "    .dataframe tbody tr th {\n",
       "        vertical-align: top;\n",
       "    }\n",
       "\n",
       "    .dataframe thead th {\n",
       "        text-align: right;\n",
       "    }\n",
       "</style>\n",
       "<table border=\"1\" class=\"dataframe\">\n",
       "  <thead>\n",
       "    <tr style=\"text-align: right;\">\n",
       "      <th></th>\n",
       "      <th>code_module</th>\n",
       "      <th>code_presentation</th>\n",
       "      <th>id_assessment</th>\n",
       "      <th>mean_date_submitted</th>\n",
       "      <th>date</th>\n",
       "      <th>module_presentation_length</th>\n",
       "    </tr>\n",
       "  </thead>\n",
       "  <tbody>\n",
       "    <tr>\n",
       "      <th>0</th>\n",
       "      <td>CCC</td>\n",
       "      <td>2014J</td>\n",
       "      <td>24299</td>\n",
       "      <td>244.404318</td>\n",
       "      <td>NaN</td>\n",
       "      <td>269</td>\n",
       "    </tr>\n",
       "    <tr>\n",
       "      <th>1</th>\n",
       "      <td>DDD</td>\n",
       "      <td>2014J</td>\n",
       "      <td>25368</td>\n",
       "      <td>242.804038</td>\n",
       "      <td>NaN</td>\n",
       "      <td>262</td>\n",
       "    </tr>\n",
       "    <tr>\n",
       "      <th>2</th>\n",
       "      <td>DDD</td>\n",
       "      <td>2013J</td>\n",
       "      <td>25354</td>\n",
       "      <td>239.509112</td>\n",
       "      <td>261.0</td>\n",
       "      <td>261</td>\n",
       "    </tr>\n",
       "    <tr>\n",
       "      <th>3</th>\n",
       "      <td>DDD</td>\n",
       "      <td>2014B</td>\n",
       "      <td>25361</td>\n",
       "      <td>234.936082</td>\n",
       "      <td>241.0</td>\n",
       "      <td>241</td>\n",
       "    </tr>\n",
       "    <tr>\n",
       "      <th>4</th>\n",
       "      <td>CCC</td>\n",
       "      <td>2014B</td>\n",
       "      <td>24290</td>\n",
       "      <td>231.581325</td>\n",
       "      <td>NaN</td>\n",
       "      <td>241</td>\n",
       "    </tr>\n",
       "    <tr>\n",
       "      <th>5</th>\n",
       "      <td>DDD</td>\n",
       "      <td>2013B</td>\n",
       "      <td>25340</td>\n",
       "      <td>230.164683</td>\n",
       "      <td>240.0</td>\n",
       "      <td>240</td>\n",
       "    </tr>\n",
       "  </tbody>\n",
       "</table>\n",
       "</div>"
      ],
      "text/plain": [
       "  code_module code_presentation  id_assessment  mean_date_submitted   date  \\\n",
       "0         CCC             2014J          24299           244.404318    NaN   \n",
       "1         DDD             2014J          25368           242.804038    NaN   \n",
       "2         DDD             2013J          25354           239.509112  261.0   \n",
       "3         DDD             2014B          25361           234.936082  241.0   \n",
       "4         CCC             2014B          24290           231.581325    NaN   \n",
       "5         DDD             2013B          25340           230.164683  240.0   \n",
       "\n",
       "   module_presentation_length  \n",
       "0                         269  \n",
       "1                         262  \n",
       "2                         261  \n",
       "3                         241  \n",
       "4                         241  \n",
       "5                         240  "
      ]
     },
     "execution_count": 169,
     "metadata": {},
     "output_type": "execute_result"
    }
   ],
   "source": [
    "# Если разбить на семестры\n",
    "exam.query(\"score >= 40\")\\\n",
    "    .groupby(['code_module', 'code_presentation', 'id_assessment'], as_index=False)\\\n",
    "    .agg({'date_submitted': 'mean', 'date': 'mean'})\\\n",
    "    .rename(columns={\"date_submitted\": \"mean_date_submitted\"})\\\n",
    "    .sort_values('mean_date_submitted', ascending=False)\\\n",
    "    .merge(courses, on=['code_module', 'code_presentation'])"
   ]
  },
  {
   "cell_type": "markdown",
   "metadata": {},
   "source": [
    "### Вывод:\n",
    "\n",
    "Средний срок сдачи экзаменов : CCC - 239 дней, DDD - 238 дней\n",
    "\n",
    "Если подтянуть информацию о module_presentation_length — продолжительности семестра в днях,\n",
    "увидим: окончательная дата сдачи теста, если указана, совпадает с длиной семестра.\n",
    "\n",
    "В среднем студенты успевают сдать экзамен до конца семестра.\n",
    "\n"
   ]
  },
  {
   "cell_type": "markdown",
   "metadata": {},
   "source": [
    "#  "
   ]
  },
  {
   "cell_type": "markdown",
   "metadata": {},
   "source": [
    "## 4. Выяви самые популярные курсы по количеству регистраций на них. Курсы с самым большим оттоком.\n",
    "\n",
    "Нужен ТОП-3 курсов\n",
    "\n",
    "\n"
   ]
  },
  {
   "cell_type": "markdown",
   "metadata": {},
   "source": [
    "### Посмотрим данные о регистрации на курсы"
   ]
  },
  {
   "cell_type": "code",
   "execution_count": 170,
   "metadata": {},
   "outputs": [
    {
     "data": {
      "text/html": [
       "<div>\n",
       "<style scoped>\n",
       "    .dataframe tbody tr th:only-of-type {\n",
       "        vertical-align: middle;\n",
       "    }\n",
       "\n",
       "    .dataframe tbody tr th {\n",
       "        vertical-align: top;\n",
       "    }\n",
       "\n",
       "    .dataframe thead th {\n",
       "        text-align: right;\n",
       "    }\n",
       "</style>\n",
       "<table border=\"1\" class=\"dataframe\">\n",
       "  <thead>\n",
       "    <tr style=\"text-align: right;\">\n",
       "      <th></th>\n",
       "      <th>code_module</th>\n",
       "      <th>code_presentation</th>\n",
       "      <th>id_student</th>\n",
       "      <th>date_registration</th>\n",
       "      <th>date_unregistration</th>\n",
       "    </tr>\n",
       "  </thead>\n",
       "  <tbody>\n",
       "    <tr>\n",
       "      <th>0</th>\n",
       "      <td>AAA</td>\n",
       "      <td>2013J</td>\n",
       "      <td>11391</td>\n",
       "      <td>-159.0</td>\n",
       "      <td>NaN</td>\n",
       "    </tr>\n",
       "    <tr>\n",
       "      <th>1</th>\n",
       "      <td>AAA</td>\n",
       "      <td>2013J</td>\n",
       "      <td>28400</td>\n",
       "      <td>-53.0</td>\n",
       "      <td>NaN</td>\n",
       "    </tr>\n",
       "    <tr>\n",
       "      <th>2</th>\n",
       "      <td>AAA</td>\n",
       "      <td>2013J</td>\n",
       "      <td>30268</td>\n",
       "      <td>-92.0</td>\n",
       "      <td>12.0</td>\n",
       "    </tr>\n",
       "    <tr>\n",
       "      <th>3</th>\n",
       "      <td>AAA</td>\n",
       "      <td>2013J</td>\n",
       "      <td>31604</td>\n",
       "      <td>-52.0</td>\n",
       "      <td>NaN</td>\n",
       "    </tr>\n",
       "    <tr>\n",
       "      <th>4</th>\n",
       "      <td>AAA</td>\n",
       "      <td>2013J</td>\n",
       "      <td>32885</td>\n",
       "      <td>-176.0</td>\n",
       "      <td>NaN</td>\n",
       "    </tr>\n",
       "  </tbody>\n",
       "</table>\n",
       "</div>"
      ],
      "text/plain": [
       "  code_module code_presentation  id_student  date_registration  \\\n",
       "0         AAA             2013J       11391             -159.0   \n",
       "1         AAA             2013J       28400              -53.0   \n",
       "2         AAA             2013J       30268              -92.0   \n",
       "3         AAA             2013J       31604              -52.0   \n",
       "4         AAA             2013J       32885             -176.0   \n",
       "\n",
       "   date_unregistration  \n",
       "0                  NaN  \n",
       "1                  NaN  \n",
       "2                 12.0  \n",
       "3                  NaN  \n",
       "4                  NaN  "
      ]
     },
     "execution_count": 170,
     "metadata": {},
     "output_type": "execute_result"
    }
   ],
   "source": [
    "studentRegistration.head()"
   ]
  },
  {
   "cell_type": "code",
   "execution_count": 171,
   "metadata": {},
   "outputs": [
    {
     "data": {
      "text/plain": [
       "code_module                0\n",
       "code_presentation          0\n",
       "id_student                 0\n",
       "date_registration         45\n",
       "date_unregistration    22521\n",
       "dtype: int64"
      ]
     },
     "execution_count": 171,
     "metadata": {},
     "output_type": "execute_result"
    }
   ],
   "source": [
    "studentRegistration.isnull().sum()\n",
    "#Пропущеные значения в date_unregistration - это студенты, которые окончили курс"
   ]
  },
  {
   "cell_type": "code",
   "execution_count": 172,
   "metadata": {},
   "outputs": [
    {
     "data": {
      "text/html": [
       "<div>\n",
       "<style scoped>\n",
       "    .dataframe tbody tr th:only-of-type {\n",
       "        vertical-align: middle;\n",
       "    }\n",
       "\n",
       "    .dataframe tbody tr th {\n",
       "        vertical-align: top;\n",
       "    }\n",
       "\n",
       "    .dataframe thead th {\n",
       "        text-align: right;\n",
       "    }\n",
       "</style>\n",
       "<table border=\"1\" class=\"dataframe\">\n",
       "  <thead>\n",
       "    <tr style=\"text-align: right;\">\n",
       "      <th></th>\n",
       "      <th>code_module</th>\n",
       "      <th>code_presentation</th>\n",
       "      <th>id_student</th>\n",
       "      <th>date_registration</th>\n",
       "      <th>date_unregistration</th>\n",
       "    </tr>\n",
       "  </thead>\n",
       "  <tbody>\n",
       "    <tr>\n",
       "      <th>2344</th>\n",
       "      <td>BBB</td>\n",
       "      <td>2013B</td>\n",
       "      <td>630346</td>\n",
       "      <td>NaN</td>\n",
       "      <td>NaN</td>\n",
       "    </tr>\n",
       "    <tr>\n",
       "      <th>2538</th>\n",
       "      <td>BBB</td>\n",
       "      <td>2013J</td>\n",
       "      <td>57369</td>\n",
       "      <td>NaN</td>\n",
       "      <td>-1.0</td>\n",
       "    </tr>\n",
       "    <tr>\n",
       "      <th>2759</th>\n",
       "      <td>BBB</td>\n",
       "      <td>2013J</td>\n",
       "      <td>342678</td>\n",
       "      <td>NaN</td>\n",
       "      <td>-33.0</td>\n",
       "    </tr>\n",
       "    <tr>\n",
       "      <th>5356</th>\n",
       "      <td>BBB</td>\n",
       "      <td>2014B</td>\n",
       "      <td>582496</td>\n",
       "      <td>NaN</td>\n",
       "      <td>-126.0</td>\n",
       "    </tr>\n",
       "    <tr>\n",
       "      <th>5490</th>\n",
       "      <td>BBB</td>\n",
       "      <td>2014B</td>\n",
       "      <td>607646</td>\n",
       "      <td>NaN</td>\n",
       "      <td>-38.0</td>\n",
       "    </tr>\n",
       "  </tbody>\n",
       "</table>\n",
       "</div>"
      ],
      "text/plain": [
       "     code_module code_presentation  id_student  date_registration  \\\n",
       "2344         BBB             2013B      630346                NaN   \n",
       "2538         BBB             2013J       57369                NaN   \n",
       "2759         BBB             2013J      342678                NaN   \n",
       "5356         BBB             2014B      582496                NaN   \n",
       "5490         BBB             2014B      607646                NaN   \n",
       "\n",
       "      date_unregistration  \n",
       "2344                  NaN  \n",
       "2538                 -1.0  \n",
       "2759                -33.0  \n",
       "5356               -126.0  \n",
       "5490                -38.0  "
      ]
     },
     "execution_count": 172,
     "metadata": {},
     "output_type": "execute_result"
    }
   ],
   "source": [
    "#Пропущеные значения date_registration - это отсутствие информации о дате регистрации на курс\n",
    "studentRegistration.query(\"date_registration.isnull()\").head()\n",
    "# Нас интересует количество людей, которые регистрировались на курс.\n",
    "# Оставим пропущеные значения в датафрейме"
   ]
  },
  {
   "cell_type": "code",
   "execution_count": 173,
   "metadata": {},
   "outputs": [
    {
     "data": {
      "text/plain": [
       "32593"
      ]
     },
     "execution_count": 173,
     "metadata": {},
     "output_type": "execute_result"
    }
   ],
   "source": [
    "studentRegistration.id_student.count()\n",
    "# Всего регистраций"
   ]
  },
  {
   "cell_type": "code",
   "execution_count": 174,
   "metadata": {},
   "outputs": [
    {
     "data": {
      "text/plain": [
       "28785"
      ]
     },
     "execution_count": 174,
     "metadata": {},
     "output_type": "execute_result"
    }
   ],
   "source": [
    "studentRegistration.id_student.nunique()\n",
    "# Уникальных студентов"
   ]
  },
  {
   "cell_type": "code",
   "execution_count": 175,
   "metadata": {},
   "outputs": [
    {
     "data": {
      "text/plain": [
       "<seaborn.axisgrid.FacetGrid at 0x7ff1adcd8198>"
      ]
     },
     "execution_count": 175,
     "metadata": {},
     "output_type": "execute_result"
    },
    {
     "data": {
      "image/png": "[encoded data removed]",
      "text/plain": [
       "<Figure size 360x360 with 1 Axes>"
      ]
     },
     "metadata": {
      "needs_background": "light"
     },
     "output_type": "display_data"
    }
   ],
   "source": [
    "# Как распределились даты регистрации\n",
    "sns.displot(studentRegistration, x='date_registration')"
   ]
  },
  {
   "cell_type": "code",
   "execution_count": 176,
   "metadata": {},
   "outputs": [
    {
     "data": {
      "text/plain": [
       "<seaborn.axisgrid.FacetGrid at 0x7ff1ada93358>"
      ]
     },
     "execution_count": 176,
     "metadata": {},
     "output_type": "execute_result"
    },
    {
     "data": {
      "image/png": "[encoded data removed]",
      "text/plain": [
       "<Figure size 360x360 with 1 Axes>"
      ]
     },
     "metadata": {
      "needs_background": "light"
     },
     "output_type": "display_data"
    }
   ],
   "source": [
    "# Как распределились даты отмены регистрации\n",
    "sns.displot(studentRegistration, x='date_unregistration')"
   ]
  },
  {
   "cell_type": "code",
   "execution_count": 177,
   "metadata": {},
   "outputs": [
    {
     "data": {
      "text/plain": [
       "1    32548\n",
       "0       45\n",
       "Name: date_registration, dtype: int64"
      ]
     },
     "execution_count": 177,
     "metadata": {},
     "output_type": "execute_result"
    }
   ],
   "source": [
    "# Посмотрим, не вмешиваются ли студенты, которые несколько раз зарегитстрировались на один и тот - же курс.\n",
    "studentRegistration \\\n",
    "    .groupby(['code_module', 'code_presentation', 'id_student'], as_index=False) \\\n",
    "    .agg({'date_registration': 'count'})\\\n",
    "    .date_registration.value_counts()\n",
    "# Студентов, которые несколько раз зарегестрировались под одним id на один и тот - же курс нет."
   ]
  },
  {
   "cell_type": "markdown",
   "metadata": {},
   "source": [
    "### Посмотрим на курсы\n",
    "\n",
    "Посчитаем, сколько человек регистрировались на курс, сколько человек его покинули.\n",
    "\n",
    "Показатель оттока, как оношение тех, кто ушел, к тем, кто регистрировался.\n",
    "\n",
    "Самые популярные курсы:"
   ]
  },
  {
   "cell_type": "code",
   "execution_count": 178,
   "metadata": {},
   "outputs": [
    {
     "data": {
      "text/html": [
       "<div>\n",
       "<style scoped>\n",
       "    .dataframe tbody tr th:only-of-type {\n",
       "        vertical-align: middle;\n",
       "    }\n",
       "\n",
       "    .dataframe tbody tr th {\n",
       "        vertical-align: top;\n",
       "    }\n",
       "\n",
       "    .dataframe thead th {\n",
       "        text-align: right;\n",
       "    }\n",
       "</style>\n",
       "<table border=\"1\" class=\"dataframe\">\n",
       "  <thead>\n",
       "    <tr style=\"text-align: right;\">\n",
       "      <th></th>\n",
       "      <th>code_module</th>\n",
       "      <th>count_student</th>\n",
       "      <th>unregistration_student</th>\n",
       "      <th>churn_rate</th>\n",
       "    </tr>\n",
       "  </thead>\n",
       "  <tbody>\n",
       "    <tr>\n",
       "      <th>1</th>\n",
       "      <td>BBB</td>\n",
       "      <td>7909</td>\n",
       "      <td>2377</td>\n",
       "      <td>0.300544</td>\n",
       "    </tr>\n",
       "    <tr>\n",
       "      <th>5</th>\n",
       "      <td>FFF</td>\n",
       "      <td>7762</td>\n",
       "      <td>2380</td>\n",
       "      <td>0.306622</td>\n",
       "    </tr>\n",
       "    <tr>\n",
       "      <th>3</th>\n",
       "      <td>DDD</td>\n",
       "      <td>6272</td>\n",
       "      <td>2235</td>\n",
       "      <td>0.356346</td>\n",
       "    </tr>\n",
       "  </tbody>\n",
       "</table>\n",
       "</div>"
      ],
      "text/plain": [
       "  code_module  count_student  unregistration_student  churn_rate\n",
       "1         BBB           7909                    2377    0.300544\n",
       "5         FFF           7762                    2380    0.306622\n",
       "3         DDD           6272                    2235    0.356346"
      ]
     },
     "execution_count": 178,
     "metadata": {},
     "output_type": "execute_result"
    }
   ],
   "source": [
    "popular = studentRegistration \\\n",
    "    .groupby('code_module', as_index=False) \\\n",
    "    .agg({'id_student': 'count', 'date_unregistration': 'count'}) \\\n",
    "    .rename(columns={\"id_student\": \"count_student\", \"date_unregistration\": \"unregistration_student\"})\\\n",
    "    .sort_values('count_student', ascending=False)\n",
    "popular['churn_rate'] = popular.unregistration_student / popular.count_student\n",
    "popular.head(3)"
   ]
  },
  {
   "cell_type": "markdown",
   "metadata": {},
   "source": [
    "Отток:"
   ]
  },
  {
   "cell_type": "code",
   "execution_count": 179,
   "metadata": {},
   "outputs": [
    {
     "data": {
      "text/html": [
       "<div>\n",
       "<style scoped>\n",
       "    .dataframe tbody tr th:only-of-type {\n",
       "        vertical-align: middle;\n",
       "    }\n",
       "\n",
       "    .dataframe tbody tr th {\n",
       "        vertical-align: top;\n",
       "    }\n",
       "\n",
       "    .dataframe thead th {\n",
       "        text-align: right;\n",
       "    }\n",
       "</style>\n",
       "<table border=\"1\" class=\"dataframe\">\n",
       "  <thead>\n",
       "    <tr style=\"text-align: right;\">\n",
       "      <th></th>\n",
       "      <th>code_module</th>\n",
       "      <th>count_student</th>\n",
       "      <th>unregistration_student</th>\n",
       "      <th>churn_rate</th>\n",
       "    </tr>\n",
       "  </thead>\n",
       "  <tbody>\n",
       "    <tr>\n",
       "      <th>2</th>\n",
       "      <td>CCC</td>\n",
       "      <td>4434</td>\n",
       "      <td>1947</td>\n",
       "      <td>0.439107</td>\n",
       "    </tr>\n",
       "    <tr>\n",
       "      <th>3</th>\n",
       "      <td>DDD</td>\n",
       "      <td>6272</td>\n",
       "      <td>2235</td>\n",
       "      <td>0.356346</td>\n",
       "    </tr>\n",
       "    <tr>\n",
       "      <th>5</th>\n",
       "      <td>FFF</td>\n",
       "      <td>7762</td>\n",
       "      <td>2380</td>\n",
       "      <td>0.306622</td>\n",
       "    </tr>\n",
       "  </tbody>\n",
       "</table>\n",
       "</div>"
      ],
      "text/plain": [
       "  code_module  count_student  unregistration_student  churn_rate\n",
       "2         CCC           4434                    1947    0.439107\n",
       "3         DDD           6272                    2235    0.356346\n",
       "5         FFF           7762                    2380    0.306622"
      ]
     },
     "execution_count": 179,
     "metadata": {},
     "output_type": "execute_result"
    }
   ],
   "source": [
    "popular.sort_values('churn_rate', ascending=False).head(3)"
   ]
  },
  {
   "cell_type": "markdown",
   "metadata": {},
   "source": [
    "### Вывод:\n",
    "\n",
    "Самые популярные курсы: BBB\t- 7909 регистраций, FFF - 7762 регистраций, DDD - 6272 регистраций\n",
    "\n",
    "Самый большой отток: CCC покидает 44 % студентов, DDD покидает 36 % студентов, FFF покидает 31 % студентов."
   ]
  },
  {
   "cell_type": "markdown",
   "metadata": {},
   "source": [
    "#  "
   ]
  },
  {
   "cell_type": "markdown",
   "metadata": {},
   "source": [
    "# 5. Напиши функцию на python, позволяющую строить когортный (семестровый) анализ. \n",
    "В период с начала 2013 по конец 2014 выяви семестр с самой низкой завершаемостью курсов \\\n",
    "и самыми долгими средними сроками сдачи курсов."
   ]
  },
  {
   "cell_type": "code",
   "execution_count": 180,
   "metadata": {},
   "outputs": [],
   "source": [
    "def code_presentation_score(studentAssessment, assessments):\n",
    "    exam_try = pd\\\n",
    "        .merge(studentAssessment, assessments, on=\"id_assessment\") \\\n",
    "        .query(\"assessment_type == 'Exam'\") \\\n",
    "        .groupby(['code_presentation'], as_index=False)\\\n",
    "        .agg({'score': 'count'})\\\n",
    "        .rename(columns={\"score\": \"try\"})\n",
    "\n",
    "    exam_success = pd\\\n",
    "        .merge(studentAssessment, assessments, on=\"id_assessment\") \\\n",
    "        .query(\"assessment_type == 'Exam' and score >= 40\")\\\n",
    "        .groupby(['code_presentation'], as_index=False)\\\n",
    "        .agg({'score': 'count', 'date_submitted': 'mean'})\\\n",
    "        .rename(columns={\"score\": \"success\"})\n",
    "\n",
    "    exam_score = pd.merge(exam_try, exam_success, on=['code_presentation'])\n",
    "    exam_score['completion'] = exam_score['success'] / exam_score['try']\n",
    "    exam_score = exam_score.set_index('code_presentation')\n",
    "    return print(f'Cеместр с самой низкой завершаемостью курсов: {exam_score.completion.idxmin()}',\n",
    "            f'Cеместр с самыми долгими средними сроками сдачи курсов: {exam_score.date_submitted.idxmax()}', sep='\\n')\n",
    "\n",
    "\n",
    "\n"
   ]
  },
  {
   "cell_type": "code",
   "execution_count": 181,
   "metadata": {},
   "outputs": [
    {
     "name": "stdout",
     "output_type": "stream",
     "text": [
      "Cеместр с самой низкой завершаемостью курсов: 2013B\n",
      "Cеместр с самыми долгими средними сроками сдачи курсов: 2014J\n"
     ]
    }
   ],
   "source": [
    "code_presentation_score(studentAssessment, assessments)"
   ]
  },
  {
   "cell_type": "markdown",
   "metadata": {},
   "source": [
    "### Вывод:\n",
    "\n",
    "Cеместр с самой низкой завершаемостью курсов: 2013B\n",
    "\n",
    "Cеместр с самыми долгими средними сроками сдачи курсов: 2014J    "
   ]
  },
  {
   "cell_type": "markdown",
   "metadata": {},
   "source": [
    "#  "
   ]
  },
  {
   "cell_type": "markdown",
   "metadata": {},
   "source": [
    "## 6. Строим адаптированные RFM-кластеры студентов"
   ]
  },
  {
   "cell_type": "markdown",
   "metadata": {},
   "source": [
    "R - среднее время сдачи одного экзамена \n",
    "- 1 - Студент пытался сдать, но не сдал экзамен\n",
    "- 2 - Сдал до конца семестра\n",
    "- 3 - Сдал после окончания семестра\n",
    "\n",
    "F - завершаемость курсов \n",
    "- 1 - Студент не завершил курс\n",
    "- 2 - Завершил один курс\n",
    "- 3 - Завершил два курса\n",
    "\n",
    "M - среднее количество баллов, получаемое за экзамен. \n",
    "\n",
    "- 1 - Получил меньше 40 баллов\n",
    "- 2 - Получил от 40 до 60 баллов - Удовлетворительно\n",
    "- 3 - Получил от 60 до 80 баллов - Хорошо\n",
    "- 4 - Получил больше 80 баллов - Отлично"
   ]
  },
  {
   "cell_type": "markdown",
   "metadata": {},
   "source": [
    "### RFM-анализ\n",
    "Идея RFM-анализа в том, чтобы разделить аудиторию и направлять маркетинговые ресурсы в нужном направлении. Мы сегментируем клиентскую базу по трем основным показателям поведения. В каждой из трёх групп выделяем еще по три группы.Получаем распределение по 27 сегментам.\n",
    "\n",
    "Сложность в том, что в ритейле можно оценивать давность, частоту покупок и сумму покупок обособлено. Человек мог давно купить на большую сумму или недавно начать, но покупать постоянно. При анализе потребительского поведения можно задействовать все 27 кластеров."
   ]
  },
  {
   "cell_type": "markdown",
   "metadata": {},
   "source": [
    "### Основные категории нашего исследования:\n",
    "    \n",
    "Можно пойти прямым путем и посчитать, средне время сдачи, среднее количество баллов. С опорой на это среднее время выделить группы и разделить студентов по ним, но такой подход кажется ошибочным.\n",
    "\n",
    "Мы пытаемся сегментировать аудиторию. Хочется сделать это по зависящим от студентов обстоятельствам\n",
    "\n",
    "#### R - среднее время сдачи одного экзамена\n",
    "\n",
    "Оно явно зависит от даты экзамена и длинны семестра\n",
    "\n",
    "Если делить студентов, которые сдали в разные дни, есть риск разнести по разным категориям людей, дата экзамена которых выпала на разные дни.\n",
    "\n",
    "Поделим студентов на 3 категории:\n",
    "- 1 - Студент пытался сдать, но не сдал экзамен\n",
    "- 2 - Сдал до конца семестра\n",
    "- 3 - Сдал после окончания семестра\n",
    "\n",
    "#### F - завершаемость курсов\n",
    "\n",
    "Из первого задания мы узнали, как делятся студентв по количеству завершенных курсов\n",
    "- 1 - Студент не завершил курс\n",
    "- 2 - Завершил один курс\n",
    "- 3 - Завершил два курса\n",
    "\n",
    "\n",
    "#### M - среднее количество баллов, получаемое на экзамене.\n",
    "\n",
    "У нас уже есть нижняя граница в 40 баллов. Те, кто сдал хуже с экзаменом не справились.\n",
    "\n",
    "Разделим тех, кто справился на равные группы: сдали, сдали хорошо, сдали отлично\n",
    "\n",
    "- 1 - Получил меньше 40 баллов\n",
    "- 2 - Получил от 40 до 60 баллов - Удовлетворительно\n",
    "- 3 - Получил от 60 до 80 баллов - Хорошо\n",
    "- 4 - Получил 80 и больше - Отлично\n",
    "\n",
    "\n",
    "Такой подход сделает часть кластеров невозможными. К примеру:\n",
    "\n",
    "Студент, который сдал экзамен, не мог получить меньше 40 баллов.\n",
    "\n",
    "Вычеркиваем группы 221, 321, 231, 331 - они невозможны.\n",
    "\n",
    "Да, это уменьшает количество кластеров, но позволяет разделить аудиторию и проверить качество рассчетов\n"
   ]
  },
  {
   "cell_type": "code",
   "execution_count": 182,
   "metadata": {},
   "outputs": [
    {
     "data": {
      "text/plain": [
       "4633"
      ]
     },
     "execution_count": 182,
     "metadata": {},
     "output_type": "execute_result"
    }
   ],
   "source": [
    "# Для самопроверки узнаем, сколько всего было студентов, которые пытались сдать экзамен\n",
    "pd.merge(studentAssessment, assessments, on=\"id_assessment\") \\\n",
    "    .merge(courses, on=['code_module', 'code_presentation'])\\\n",
    "    .query(\"assessment_type == 'Exam'\")\\\n",
    "    .id_student.nunique()"
   ]
  },
  {
   "cell_type": "markdown",
   "metadata": {},
   "source": [
    "### R - среднее время сдачи одного экзамена"
   ]
  },
  {
   "cell_type": "code",
   "execution_count": 183,
   "metadata": {},
   "outputs": [
    {
     "data": {
      "text/html": [
       "<div>\n",
       "<style scoped>\n",
       "    .dataframe tbody tr th:only-of-type {\n",
       "        vertical-align: middle;\n",
       "    }\n",
       "\n",
       "    .dataframe tbody tr th {\n",
       "        vertical-align: top;\n",
       "    }\n",
       "\n",
       "    .dataframe thead th {\n",
       "        text-align: right;\n",
       "    }\n",
       "</style>\n",
       "<table border=\"1\" class=\"dataframe\">\n",
       "  <thead>\n",
       "    <tr style=\"text-align: right;\">\n",
       "      <th></th>\n",
       "      <th>code_module</th>\n",
       "      <th>code_presentation</th>\n",
       "      <th>date</th>\n",
       "      <th>module_presentation_length</th>\n",
       "    </tr>\n",
       "  </thead>\n",
       "  <tbody>\n",
       "    <tr>\n",
       "      <th>0</th>\n",
       "      <td>CCC</td>\n",
       "      <td>2014B</td>\n",
       "      <td>NaN</td>\n",
       "      <td>241</td>\n",
       "    </tr>\n",
       "    <tr>\n",
       "      <th>1</th>\n",
       "      <td>CCC</td>\n",
       "      <td>2014J</td>\n",
       "      <td>NaN</td>\n",
       "      <td>269</td>\n",
       "    </tr>\n",
       "    <tr>\n",
       "      <th>2</th>\n",
       "      <td>DDD</td>\n",
       "      <td>2013B</td>\n",
       "      <td>240.0</td>\n",
       "      <td>240</td>\n",
       "    </tr>\n",
       "    <tr>\n",
       "      <th>3</th>\n",
       "      <td>DDD</td>\n",
       "      <td>2013J</td>\n",
       "      <td>261.0</td>\n",
       "      <td>261</td>\n",
       "    </tr>\n",
       "    <tr>\n",
       "      <th>4</th>\n",
       "      <td>DDD</td>\n",
       "      <td>2014B</td>\n",
       "      <td>241.0</td>\n",
       "      <td>241</td>\n",
       "    </tr>\n",
       "    <tr>\n",
       "      <th>5</th>\n",
       "      <td>DDD</td>\n",
       "      <td>2014J</td>\n",
       "      <td>NaN</td>\n",
       "      <td>262</td>\n",
       "    </tr>\n",
       "  </tbody>\n",
       "</table>\n",
       "</div>"
      ],
      "text/plain": [
       "  code_module code_presentation   date  module_presentation_length\n",
       "0         CCC             2014B    NaN                         241\n",
       "1         CCC             2014J    NaN                         269\n",
       "2         DDD             2013B  240.0                         240\n",
       "3         DDD             2013J  261.0                         261\n",
       "4         DDD             2014B  241.0                         241\n",
       "5         DDD             2014J    NaN                         262"
      ]
     },
     "execution_count": 183,
     "metadata": {},
     "output_type": "execute_result"
    }
   ],
   "source": [
    "# Еще раз, как в 3 пункте, сравниваем дату экзамена с продолжительностью семестра\n",
    "pd.merge(studentAssessment, assessments, on=\"id_assessment\") \\\n",
    "    .merge(courses, on=['code_module', 'code_presentation'])\\\n",
    "    .query(\"assessment_type == 'Exam'\") \\\n",
    "    .groupby(['code_module', 'code_presentation'], as_index = False) \\\n",
    "    .agg({'date': 'mean', 'module_presentation_length': 'mean'})\n",
    "# Там, где дата экзамена указана, она совпадает с датой окончания семестра."
   ]
  },
  {
   "cell_type": "markdown",
   "metadata": {},
   "source": [
    "Посмотрим, не вмешаются ли в наши рассчеты разные попытки одного студента сдать экзамен. Сгруппировав всех сутдентов по их Id и по Id экзамена, получим, что все студенты имели только одну попытку сдачи экзамена."
   ]
  },
  {
   "cell_type": "code",
   "execution_count": 184,
   "metadata": {},
   "outputs": [
    {
     "data": {
      "text/plain": [
       "1    4959\n",
       "Name: score, dtype: int64"
      ]
     },
     "execution_count": 184,
     "metadata": {},
     "output_type": "execute_result"
    }
   ],
   "source": [
    "# Сколько раз конкретный студент пытался сдать конкретный экзамен\n",
    "pd.merge(studentAssessment, assessments, on=\"id_assessment\") \\\n",
    "    .query(\"assessment_type == 'Exam'\") \\\n",
    "    .groupby(['id_student', 'id_assessment'], as_index=False) \\\n",
    "    .agg({'score': 'count'}) \\\n",
    "    .score.value_counts()"
   ]
  },
  {
   "cell_type": "markdown",
   "metadata": {},
   "source": [
    "Найдем, за сколько дней до конца семестра студент сдал экзамен. Если число отрицательное, то студент сдал раньше срока. Если положительное - позже"
   ]
  },
  {
   "cell_type": "code",
   "execution_count": 185,
   "metadata": {},
   "outputs": [],
   "source": [
    "# За сколько дней до конца семетра был сдан экзамен\n",
    "date_exams = pd.merge(studentAssessment, assessments, on=\"id_assessment\") \\\n",
    "    .merge(courses, on=['code_module', 'code_presentation'])\\\n",
    "    .query(\"assessment_type == 'Exam'\")\n",
    "date_exams['date_exam'] = date_exams.date_submitted - date_exams.module_presentation_length"
   ]
  },
  {
   "cell_type": "code",
   "execution_count": 186,
   "metadata": {},
   "outputs": [],
   "source": [
    "# Собираем тех студентов, кто сдал и сдал вовремя.\n",
    "# Если один студент сдал два экзамена, один до конца и другой после, получим среднее время сдачи.\n",
    "in_time = date_exams\\\n",
    "    .query(\"score >= 40 and date_exam < 0\")\\\n",
    "    .groupby('id_student', as_index=False)\\\n",
    "    .agg({'date_exam': 'mean'})\\\n",
    "    .rename(columns={\"date_exam\": \"recency\"})\n",
    "in_time['recency'] = 2"
   ]
  },
  {
   "cell_type": "code",
   "execution_count": 187,
   "metadata": {},
   "outputs": [],
   "source": [
    "# Собираем тех студентов, кто сдал и сдал после окончания семестра.\n",
    "later = date_exams.query(\"score >= 40 and date_exam > 0\")\\\n",
    "    .groupby('id_student', as_index=False)\\\n",
    "    .agg({'date_exam': 'mean'})\\\n",
    "    .rename(columns={\"date_exam\": \"recency\"})\n",
    "later['recency'] = 3"
   ]
  },
  {
   "cell_type": "code",
   "execution_count": 188,
   "metadata": {},
   "outputs": [],
   "source": [
    "# Те, кто не сдал. Нужно понимать, что тут могут оказаться те, кто не сдал один экзамен и сдал второй.\n",
    "fail = date_exams\\\n",
    "    .query(\"score < 40\")\\\n",
    "    .groupby('id_student', as_index=False)\\\n",
    "    .agg({'date_exam': 'mean'})\\\n",
    "    .rename(columns={\"date_exam\": \"recency\"})\n",
    "fail['recency'] = 1"
   ]
  },
  {
   "cell_type": "code",
   "execution_count": 189,
   "metadata": {},
   "outputs": [
    {
     "data": {
      "text/html": [
       "<div>\n",
       "<style scoped>\n",
       "    .dataframe tbody tr th:only-of-type {\n",
       "        vertical-align: middle;\n",
       "    }\n",
       "\n",
       "    .dataframe tbody tr th {\n",
       "        vertical-align: top;\n",
       "    }\n",
       "\n",
       "    .dataframe thead th {\n",
       "        text-align: right;\n",
       "    }\n",
       "</style>\n",
       "<table border=\"1\" class=\"dataframe\">\n",
       "  <thead>\n",
       "    <tr style=\"text-align: right;\">\n",
       "      <th></th>\n",
       "      <th>id_student</th>\n",
       "      <th>recency</th>\n",
       "    </tr>\n",
       "  </thead>\n",
       "  <tbody>\n",
       "    <tr>\n",
       "      <th>0</th>\n",
       "      <td>23698</td>\n",
       "      <td>2</td>\n",
       "    </tr>\n",
       "    <tr>\n",
       "      <th>1</th>\n",
       "      <td>24213</td>\n",
       "      <td>2</td>\n",
       "    </tr>\n",
       "    <tr>\n",
       "      <th>2</th>\n",
       "      <td>27116</td>\n",
       "      <td>2</td>\n",
       "    </tr>\n",
       "    <tr>\n",
       "      <th>3</th>\n",
       "      <td>28046</td>\n",
       "      <td>2</td>\n",
       "    </tr>\n",
       "    <tr>\n",
       "      <th>4</th>\n",
       "      <td>28787</td>\n",
       "      <td>2</td>\n",
       "    </tr>\n",
       "    <tr>\n",
       "      <th>...</th>\n",
       "      <td>...</td>\n",
       "      <td>...</td>\n",
       "    </tr>\n",
       "    <tr>\n",
       "      <th>559</th>\n",
       "      <td>2611779</td>\n",
       "      <td>1</td>\n",
       "    </tr>\n",
       "    <tr>\n",
       "      <th>560</th>\n",
       "      <td>2615956</td>\n",
       "      <td>1</td>\n",
       "    </tr>\n",
       "    <tr>\n",
       "      <th>561</th>\n",
       "      <td>2655683</td>\n",
       "      <td>1</td>\n",
       "    </tr>\n",
       "    <tr>\n",
       "      <th>562</th>\n",
       "      <td>2661870</td>\n",
       "      <td>1</td>\n",
       "    </tr>\n",
       "    <tr>\n",
       "      <th>563</th>\n",
       "      <td>2691861</td>\n",
       "      <td>1</td>\n",
       "    </tr>\n",
       "  </tbody>\n",
       "</table>\n",
       "<p>4633 rows × 2 columns</p>\n",
       "</div>"
      ],
      "text/plain": [
       "     id_student  recency\n",
       "0         23698        2\n",
       "1         24213        2\n",
       "2         27116        2\n",
       "3         28046        2\n",
       "4         28787        2\n",
       "..          ...      ...\n",
       "559     2611779        1\n",
       "560     2615956        1\n",
       "561     2655683        1\n",
       "562     2661870        1\n",
       "563     2691861        1\n",
       "\n",
       "[4633 rows x 2 columns]"
      ]
     },
     "execution_count": 189,
     "metadata": {},
     "output_type": "execute_result"
    }
   ],
   "source": [
    "# Склеим три таблицы в одну, удалив дубликаты\n",
    "recency = pd.concat([in_time, later, fail]).drop_duplicates('id_student')\n",
    "recency\n",
    "# drop_duplicates по умолчанию удаляет дубликаты, за исключением первого вхождения"
   ]
  },
  {
   "cell_type": "markdown",
   "metadata": {},
   "source": [
    "4633 студента, никого не потеряли."
   ]
  },
  {
   "cell_type": "markdown",
   "metadata": {},
   "source": [
    "### F - завершаемость курсов\n",
    "\n",
    "Есть студенты, которые завершили 2 курса, завершили один курс или не завершили ничего."
   ]
  },
  {
   "cell_type": "code",
   "execution_count": 190,
   "metadata": {},
   "outputs": [],
   "source": [
    "# Те, кто завешили 2 курса, получат цифру 3, один курс - цифтру 2. Ноль - 1\n",
    "frequency_success = pd.merge(studentAssessment, assessments, on=\"id_assessment\") \\\n",
    "    .query(\"assessment_type == 'Exam' and score >= 40\")\\\n",
    "    .groupby('id_student', as_index=False)\\\n",
    "    .agg({'assessment_type': 'count'})\\\n",
    "    .rename(columns={\"assessment_type\": \"frequency\"})\n",
    "frequency_success.frequency += 1"
   ]
  },
  {
   "cell_type": "code",
   "execution_count": 191,
   "metadata": {},
   "outputs": [],
   "source": [
    "frequency_try = pd.merge(studentAssessment, assessments, on=\"id_assessment\") \\\n",
    "    .query(\"assessment_type == 'Exam' and score < 40\")\\\n",
    "    .groupby('id_student', as_index=False)\\\n",
    "    .agg({'assessment_type': 'count'})\\\n",
    "    .rename(columns={\"assessment_type\": \"frequency\"})\n",
    "frequency_try.frequency = 1"
   ]
  },
  {
   "cell_type": "code",
   "execution_count": 192,
   "metadata": {},
   "outputs": [
    {
     "data": {
      "text/html": [
       "<div>\n",
       "<style scoped>\n",
       "    .dataframe tbody tr th:only-of-type {\n",
       "        vertical-align: middle;\n",
       "    }\n",
       "\n",
       "    .dataframe tbody tr th {\n",
       "        vertical-align: top;\n",
       "    }\n",
       "\n",
       "    .dataframe thead th {\n",
       "        text-align: right;\n",
       "    }\n",
       "</style>\n",
       "<table border=\"1\" class=\"dataframe\">\n",
       "  <thead>\n",
       "    <tr style=\"text-align: right;\">\n",
       "      <th></th>\n",
       "      <th>id_student</th>\n",
       "      <th>frequency</th>\n",
       "    </tr>\n",
       "  </thead>\n",
       "  <tbody>\n",
       "    <tr>\n",
       "      <th>0</th>\n",
       "      <td>23698</td>\n",
       "      <td>2</td>\n",
       "    </tr>\n",
       "    <tr>\n",
       "      <th>1</th>\n",
       "      <td>24213</td>\n",
       "      <td>2</td>\n",
       "    </tr>\n",
       "    <tr>\n",
       "      <th>2</th>\n",
       "      <td>27116</td>\n",
       "      <td>2</td>\n",
       "    </tr>\n",
       "    <tr>\n",
       "      <th>3</th>\n",
       "      <td>28046</td>\n",
       "      <td>2</td>\n",
       "    </tr>\n",
       "    <tr>\n",
       "      <th>4</th>\n",
       "      <td>28787</td>\n",
       "      <td>2</td>\n",
       "    </tr>\n",
       "    <tr>\n",
       "      <th>...</th>\n",
       "      <td>...</td>\n",
       "      <td>...</td>\n",
       "    </tr>\n",
       "    <tr>\n",
       "      <th>559</th>\n",
       "      <td>2611779</td>\n",
       "      <td>1</td>\n",
       "    </tr>\n",
       "    <tr>\n",
       "      <th>560</th>\n",
       "      <td>2615956</td>\n",
       "      <td>1</td>\n",
       "    </tr>\n",
       "    <tr>\n",
       "      <th>561</th>\n",
       "      <td>2655683</td>\n",
       "      <td>1</td>\n",
       "    </tr>\n",
       "    <tr>\n",
       "      <th>562</th>\n",
       "      <td>2661870</td>\n",
       "      <td>1</td>\n",
       "    </tr>\n",
       "    <tr>\n",
       "      <th>563</th>\n",
       "      <td>2691861</td>\n",
       "      <td>1</td>\n",
       "    </tr>\n",
       "  </tbody>\n",
       "</table>\n",
       "<p>4633 rows × 2 columns</p>\n",
       "</div>"
      ],
      "text/plain": [
       "     id_student  frequency\n",
       "0         23698          2\n",
       "1         24213          2\n",
       "2         27116          2\n",
       "3         28046          2\n",
       "4         28787          2\n",
       "..          ...        ...\n",
       "559     2611779          1\n",
       "560     2615956          1\n",
       "561     2655683          1\n",
       "562     2661870          1\n",
       "563     2691861          1\n",
       "\n",
       "[4633 rows x 2 columns]"
      ]
     },
     "execution_count": 192,
     "metadata": {},
     "output_type": "execute_result"
    }
   ],
   "source": [
    "frequency = pd.concat([frequency_success, frequency_try]).drop_duplicates('id_student')\n",
    "frequency"
   ]
  },
  {
   "cell_type": "markdown",
   "metadata": {},
   "source": [
    "4633 студента, никого не потеряли."
   ]
  },
  {
   "cell_type": "markdown",
   "metadata": {},
   "source": [
    "### M - среднее количество баллов, получаемое за экзамен."
   ]
  },
  {
   "cell_type": "code",
   "execution_count": 193,
   "metadata": {},
   "outputs": [],
   "source": [
    "monetary_success = pd\\\n",
    "    .merge(studentAssessment, assessments, on=\"id_assessment\")\\\n",
    "    .query(\"assessment_type == 'Exam' and score >= 40\")\\\n",
    "    .groupby('id_student', as_index=False)\\\n",
    "    .agg({'score': 'mean'})"
   ]
  },
  {
   "cell_type": "code",
   "execution_count": 194,
   "metadata": {},
   "outputs": [],
   "source": [
    "def monetary_score(x):\n",
    "    if  x < 60:\n",
    "        return 2\n",
    "    elif x < 80:\n",
    "        return 3\n",
    "    else:\n",
    "        return 4"
   ]
  },
  {
   "cell_type": "code",
   "execution_count": 195,
   "metadata": {},
   "outputs": [],
   "source": [
    "monetary_success.score = monetary_success.score.apply(lambda c: monetary_score(c))\n",
    "monetary_success = monetary_success.rename(columns={\"score\": \"monetary\"})"
   ]
  },
  {
   "cell_type": "code",
   "execution_count": 196,
   "metadata": {},
   "outputs": [],
   "source": [
    "monetary_try = pd\\\n",
    "    .merge(studentAssessment, assessments, on=\"id_assessment\")\\\n",
    "    .query(\"assessment_type == 'Exam' and score < 40\")\\\n",
    "    .groupby('id_student', as_index=False)\\\n",
    "    .agg({'score': 'mean'})\\\n",
    "    .rename(columns={\"score\": \"monetary\"})\n",
    "monetary_try.monetary = 1"
   ]
  },
  {
   "cell_type": "code",
   "execution_count": 197,
   "metadata": {},
   "outputs": [
    {
     "data": {
      "text/html": [
       "<div>\n",
       "<style scoped>\n",
       "    .dataframe tbody tr th:only-of-type {\n",
       "        vertical-align: middle;\n",
       "    }\n",
       "\n",
       "    .dataframe tbody tr th {\n",
       "        vertical-align: top;\n",
       "    }\n",
       "\n",
       "    .dataframe thead th {\n",
       "        text-align: right;\n",
       "    }\n",
       "</style>\n",
       "<table border=\"1\" class=\"dataframe\">\n",
       "  <thead>\n",
       "    <tr style=\"text-align: right;\">\n",
       "      <th></th>\n",
       "      <th>id_student</th>\n",
       "      <th>monetary</th>\n",
       "    </tr>\n",
       "  </thead>\n",
       "  <tbody>\n",
       "    <tr>\n",
       "      <th>0</th>\n",
       "      <td>23698</td>\n",
       "      <td>4</td>\n",
       "    </tr>\n",
       "    <tr>\n",
       "      <th>1</th>\n",
       "      <td>24213</td>\n",
       "      <td>2</td>\n",
       "    </tr>\n",
       "    <tr>\n",
       "      <th>2</th>\n",
       "      <td>27116</td>\n",
       "      <td>4</td>\n",
       "    </tr>\n",
       "    <tr>\n",
       "      <th>3</th>\n",
       "      <td>28046</td>\n",
       "      <td>2</td>\n",
       "    </tr>\n",
       "    <tr>\n",
       "      <th>4</th>\n",
       "      <td>28787</td>\n",
       "      <td>2</td>\n",
       "    </tr>\n",
       "    <tr>\n",
       "      <th>...</th>\n",
       "      <td>...</td>\n",
       "      <td>...</td>\n",
       "    </tr>\n",
       "    <tr>\n",
       "      <th>559</th>\n",
       "      <td>2611779</td>\n",
       "      <td>1</td>\n",
       "    </tr>\n",
       "    <tr>\n",
       "      <th>560</th>\n",
       "      <td>2615956</td>\n",
       "      <td>1</td>\n",
       "    </tr>\n",
       "    <tr>\n",
       "      <th>561</th>\n",
       "      <td>2655683</td>\n",
       "      <td>1</td>\n",
       "    </tr>\n",
       "    <tr>\n",
       "      <th>562</th>\n",
       "      <td>2661870</td>\n",
       "      <td>1</td>\n",
       "    </tr>\n",
       "    <tr>\n",
       "      <th>563</th>\n",
       "      <td>2691861</td>\n",
       "      <td>1</td>\n",
       "    </tr>\n",
       "  </tbody>\n",
       "</table>\n",
       "<p>4633 rows × 2 columns</p>\n",
       "</div>"
      ],
      "text/plain": [
       "     id_student  monetary\n",
       "0         23698         4\n",
       "1         24213         2\n",
       "2         27116         4\n",
       "3         28046         2\n",
       "4         28787         2\n",
       "..          ...       ...\n",
       "559     2611779         1\n",
       "560     2615956         1\n",
       "561     2655683         1\n",
       "562     2661870         1\n",
       "563     2691861         1\n",
       "\n",
       "[4633 rows x 2 columns]"
      ]
     },
     "execution_count": 197,
     "metadata": {},
     "output_type": "execute_result"
    }
   ],
   "source": [
    "monetary = pd.concat([monetary_success, monetary_try]).drop_duplicates('id_student')\n",
    "monetary"
   ]
  },
  {
   "cell_type": "markdown",
   "metadata": {},
   "source": [
    "4633 студента, никого не потеряли."
   ]
  },
  {
   "cell_type": "markdown",
   "metadata": {},
   "source": [
    "### RFM-анализ"
   ]
  },
  {
   "cell_type": "code",
   "execution_count": 198,
   "metadata": {},
   "outputs": [
    {
     "data": {
      "text/html": [
       "<div>\n",
       "<style scoped>\n",
       "    .dataframe tbody tr th:only-of-type {\n",
       "        vertical-align: middle;\n",
       "    }\n",
       "\n",
       "    .dataframe tbody tr th {\n",
       "        vertical-align: top;\n",
       "    }\n",
       "\n",
       "    .dataframe thead th {\n",
       "        text-align: right;\n",
       "    }\n",
       "</style>\n",
       "<table border=\"1\" class=\"dataframe\">\n",
       "  <thead>\n",
       "    <tr style=\"text-align: right;\">\n",
       "      <th></th>\n",
       "      <th>id_student</th>\n",
       "      <th>recency</th>\n",
       "      <th>frequency</th>\n",
       "      <th>monetary</th>\n",
       "    </tr>\n",
       "  </thead>\n",
       "  <tbody>\n",
       "    <tr>\n",
       "      <th>0</th>\n",
       "      <td>23698</td>\n",
       "      <td>2</td>\n",
       "      <td>2</td>\n",
       "      <td>4</td>\n",
       "    </tr>\n",
       "    <tr>\n",
       "      <th>1</th>\n",
       "      <td>24213</td>\n",
       "      <td>2</td>\n",
       "      <td>2</td>\n",
       "      <td>2</td>\n",
       "    </tr>\n",
       "    <tr>\n",
       "      <th>2</th>\n",
       "      <td>27116</td>\n",
       "      <td>2</td>\n",
       "      <td>2</td>\n",
       "      <td>4</td>\n",
       "    </tr>\n",
       "    <tr>\n",
       "      <th>3</th>\n",
       "      <td>28046</td>\n",
       "      <td>2</td>\n",
       "      <td>2</td>\n",
       "      <td>2</td>\n",
       "    </tr>\n",
       "    <tr>\n",
       "      <th>4</th>\n",
       "      <td>28787</td>\n",
       "      <td>2</td>\n",
       "      <td>2</td>\n",
       "      <td>2</td>\n",
       "    </tr>\n",
       "    <tr>\n",
       "      <th>...</th>\n",
       "      <td>...</td>\n",
       "      <td>...</td>\n",
       "      <td>...</td>\n",
       "      <td>...</td>\n",
       "    </tr>\n",
       "    <tr>\n",
       "      <th>4628</th>\n",
       "      <td>2611779</td>\n",
       "      <td>1</td>\n",
       "      <td>1</td>\n",
       "      <td>1</td>\n",
       "    </tr>\n",
       "    <tr>\n",
       "      <th>4629</th>\n",
       "      <td>2615956</td>\n",
       "      <td>1</td>\n",
       "      <td>1</td>\n",
       "      <td>1</td>\n",
       "    </tr>\n",
       "    <tr>\n",
       "      <th>4630</th>\n",
       "      <td>2655683</td>\n",
       "      <td>1</td>\n",
       "      <td>1</td>\n",
       "      <td>1</td>\n",
       "    </tr>\n",
       "    <tr>\n",
       "      <th>4631</th>\n",
       "      <td>2661870</td>\n",
       "      <td>1</td>\n",
       "      <td>1</td>\n",
       "      <td>1</td>\n",
       "    </tr>\n",
       "    <tr>\n",
       "      <th>4632</th>\n",
       "      <td>2691861</td>\n",
       "      <td>1</td>\n",
       "      <td>1</td>\n",
       "      <td>1</td>\n",
       "    </tr>\n",
       "  </tbody>\n",
       "</table>\n",
       "<p>4633 rows × 4 columns</p>\n",
       "</div>"
      ],
      "text/plain": [
       "      id_student  recency  frequency  monetary\n",
       "0          23698        2          2         4\n",
       "1          24213        2          2         2\n",
       "2          27116        2          2         4\n",
       "3          28046        2          2         2\n",
       "4          28787        2          2         2\n",
       "...          ...      ...        ...       ...\n",
       "4628     2611779        1          1         1\n",
       "4629     2615956        1          1         1\n",
       "4630     2655683        1          1         1\n",
       "4631     2661870        1          1         1\n",
       "4632     2691861        1          1         1\n",
       "\n",
       "[4633 rows x 4 columns]"
      ]
     },
     "execution_count": 198,
     "metadata": {},
     "output_type": "execute_result"
    }
   ],
   "source": [
    "# Склеим в кучу всю информацию\n",
    "rfm = pd.merge(recency, frequency, on=\"id_student\").merge(monetary, on=\"id_student\")\n",
    "rfm "
   ]
  },
  {
   "cell_type": "code",
   "execution_count": 199,
   "metadata": {},
   "outputs": [],
   "source": [
    "rfm['recency'] = rfm['recency'].apply(str)\n",
    "rfm['frequency'] = rfm['frequency'].apply(str)\n",
    "rfm['monetary'] = rfm['monetary'].apply(str)"
   ]
  },
  {
   "cell_type": "code",
   "execution_count": 200,
   "metadata": {},
   "outputs": [],
   "source": [
    "rfm['RFM'] = rfm.recency + rfm.frequency + rfm.monetary"
   ]
  },
  {
   "cell_type": "code",
   "execution_count": 201,
   "metadata": {},
   "outputs": [
    {
     "data": {
      "text/html": [
       "<div>\n",
       "<style scoped>\n",
       "    .dataframe tbody tr th:only-of-type {\n",
       "        vertical-align: middle;\n",
       "    }\n",
       "\n",
       "    .dataframe tbody tr th {\n",
       "        vertical-align: top;\n",
       "    }\n",
       "\n",
       "    .dataframe thead th {\n",
       "        text-align: right;\n",
       "    }\n",
       "</style>\n",
       "<table border=\"1\" class=\"dataframe\">\n",
       "  <thead>\n",
       "    <tr style=\"text-align: right;\">\n",
       "      <th></th>\n",
       "      <th>RFM</th>\n",
       "    </tr>\n",
       "  </thead>\n",
       "  <tbody>\n",
       "    <tr>\n",
       "      <th>223</th>\n",
       "      <td>1412</td>\n",
       "    </tr>\n",
       "    <tr>\n",
       "      <th>222</th>\n",
       "      <td>1193</td>\n",
       "    </tr>\n",
       "    <tr>\n",
       "      <th>224</th>\n",
       "      <td>1187</td>\n",
       "    </tr>\n",
       "    <tr>\n",
       "      <th>111</th>\n",
       "      <td>536</td>\n",
       "    </tr>\n",
       "    <tr>\n",
       "      <th>234</th>\n",
       "      <td>126</td>\n",
       "    </tr>\n",
       "    <tr>\n",
       "      <th>233</th>\n",
       "      <td>113</td>\n",
       "    </tr>\n",
       "    <tr>\n",
       "      <th>232</th>\n",
       "      <td>56</td>\n",
       "    </tr>\n",
       "    <tr>\n",
       "      <th>322</th>\n",
       "      <td>5</td>\n",
       "    </tr>\n",
       "    <tr>\n",
       "      <th>323</th>\n",
       "      <td>4</td>\n",
       "    </tr>\n",
       "    <tr>\n",
       "      <th>324</th>\n",
       "      <td>1</td>\n",
       "    </tr>\n",
       "  </tbody>\n",
       "</table>\n",
       "</div>"
      ],
      "text/plain": [
       "      RFM\n",
       "223  1412\n",
       "222  1193\n",
       "224  1187\n",
       "111   536\n",
       "234   126\n",
       "233   113\n",
       "232    56\n",
       "322     5\n",
       "323     4\n",
       "324     1"
      ]
     },
     "execution_count": 201,
     "metadata": {},
     "output_type": "execute_result"
    }
   ],
   "source": [
    "rfm.RFM.value_counts().to_frame()"
   ]
  },
  {
   "cell_type": "markdown",
   "metadata": {},
   "source": [
    "### Вывод:\n",
    "    Мы получили 10 кластеров:\n",
    "    \n",
    "    223 - Самый популярный. Эти люди завершили вовремя один курс и получили оценку Хорошо\n",
    "    222 - Второй по популярности, эти люди завершили вовремя один курс и получили оценку Удовлетворительно\n",
    "    224 - Завершили вовремя один курс и получили оценку Отлично\n",
    "    \n",
    "    111 - Те, кто не сдал. Не завершил ни одного курса и получил меньше 40 баллов\n",
    "    \n",
    "    234 - Те, кто в среднем уложившись в длину семестра, завершил два курса со средней оценкой Отлично\n",
    "    233 - Те, кто в среднем уложившись в длину семестра, завершил два курса со средней оценкой Хорошо\n",
    "    232 - Те, кто в среднем уложившись в длину семестра, завершил два курса со средней оценкой Удовлетворительно\n",
    "    \n",
    "    322 - Те, кто сдал после окончания семестра, завершил один курс и получил оценку Удовлетворительно\n",
    "    323 - Те, кто сдал после окончания семестра, завершил один курс и получил оценку Хорошо\n",
    "    324 - Те, кто сдал после окончания семестра, завершил один курс и получил оценку Отлично"
   ]
  },
  {
   "cell_type": "code",
   "execution_count": null,
   "metadata": {},
   "outputs": [],
   "source": []
  }
 ],
 "metadata": {
  "kernelspec": {
   "display_name": "Python 3",
   "language": "python",
   "name": "python3"
  },
  "language_info": {
   "codemirror_mode": {
    "name": "ipython",
    "version": 3
   },
   "file_extension": ".py",
   "mimetype": "text/x-python",
   "name": "python",
   "nbconvert_exporter": "python",
   "pygments_lexer": "ipython3",
   "version": "3.7.3"
  }
 },
 "nbformat": 4,
 "nbformat_minor": 4
}
